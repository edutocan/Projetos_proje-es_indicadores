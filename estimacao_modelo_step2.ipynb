{
  "nbformat": 4,
  "nbformat_minor": 0,
  "metadata": {
    "colab": {
      "provenance": [],
      "toc_visible": true
    },
    "kernelspec": {
      "name": "python3",
      "display_name": "Python 3"
    },
    "language_info": {
      "name": "python"
    },
    "widgets": {
      "application/vnd.jupyter.widget-state+json": {
        "0ad9befed7a44ee58119484129b7f47a": {
          "model_module": "@jupyter-widgets/controls",
          "model_name": "HBoxModel",
          "model_module_version": "1.5.0",
          "state": {
            "_dom_classes": [],
            "_model_module": "@jupyter-widgets/controls",
            "_model_module_version": "1.5.0",
            "_model_name": "HBoxModel",
            "_view_count": null,
            "_view_module": "@jupyter-widgets/controls",
            "_view_module_version": "1.5.0",
            "_view_name": "HBoxView",
            "box_style": "",
            "children": [
              "IPY_MODEL_ad2063a9c1a244d59353d0f79cd50613",
              "IPY_MODEL_81c83e0cb103496582d2f682281ed8b9",
              "IPY_MODEL_e6624b98848542adba8b2c6f866b2623"
            ],
            "layout": "IPY_MODEL_95482fa5e3cd4aa1be4f229b9cc87df3"
          }
        },
        "ad2063a9c1a244d59353d0f79cd50613": {
          "model_module": "@jupyter-widgets/controls",
          "model_name": "HTMLModel",
          "model_module_version": "1.5.0",
          "state": {
            "_dom_classes": [],
            "_model_module": "@jupyter-widgets/controls",
            "_model_module_version": "1.5.0",
            "_model_name": "HTMLModel",
            "_view_count": null,
            "_view_module": "@jupyter-widgets/controls",
            "_view_module_version": "1.5.0",
            "_view_name": "HTMLView",
            "description": "",
            "description_tooltip": null,
            "layout": "IPY_MODEL_69308fa8ad274f0b83d877631d4cf095",
            "placeholder": "​",
            "style": "IPY_MODEL_18c70b6ac8084dacbfe69e730fe64a36",
            "value": "params grid: 100%"
          }
        },
        "81c83e0cb103496582d2f682281ed8b9": {
          "model_module": "@jupyter-widgets/controls",
          "model_name": "FloatProgressModel",
          "model_module_version": "1.5.0",
          "state": {
            "_dom_classes": [],
            "_model_module": "@jupyter-widgets/controls",
            "_model_module_version": "1.5.0",
            "_model_name": "FloatProgressModel",
            "_view_count": null,
            "_view_module": "@jupyter-widgets/controls",
            "_view_module_version": "1.5.0",
            "_view_name": "ProgressView",
            "bar_style": "success",
            "description": "",
            "description_tooltip": null,
            "layout": "IPY_MODEL_935c6c57649e4de7a35457fccf1f0deb",
            "max": 36,
            "min": 0,
            "orientation": "horizontal",
            "style": "IPY_MODEL_68d21899da9547c6ac26f50fac26b86f",
            "value": 36
          }
        },
        "e6624b98848542adba8b2c6f866b2623": {
          "model_module": "@jupyter-widgets/controls",
          "model_name": "HTMLModel",
          "model_module_version": "1.5.0",
          "state": {
            "_dom_classes": [],
            "_model_module": "@jupyter-widgets/controls",
            "_model_module_version": "1.5.0",
            "_model_name": "HTMLModel",
            "_view_count": null,
            "_view_module": "@jupyter-widgets/controls",
            "_view_module_version": "1.5.0",
            "_view_name": "HTMLView",
            "description": "",
            "description_tooltip": null,
            "layout": "IPY_MODEL_c6ae31852ef249fe8116530dec0c9c1e",
            "placeholder": "​",
            "style": "IPY_MODEL_71ec3f170ab441aea75861fa797cf046",
            "value": " 36/36 [06:30&lt;00:00, 17.45s/it]"
          }
        },
        "95482fa5e3cd4aa1be4f229b9cc87df3": {
          "model_module": "@jupyter-widgets/base",
          "model_name": "LayoutModel",
          "model_module_version": "1.2.0",
          "state": {
            "_model_module": "@jupyter-widgets/base",
            "_model_module_version": "1.2.0",
            "_model_name": "LayoutModel",
            "_view_count": null,
            "_view_module": "@jupyter-widgets/base",
            "_view_module_version": "1.2.0",
            "_view_name": "LayoutView",
            "align_content": null,
            "align_items": null,
            "align_self": null,
            "border": null,
            "bottom": null,
            "display": null,
            "flex": null,
            "flex_flow": null,
            "grid_area": null,
            "grid_auto_columns": null,
            "grid_auto_flow": null,
            "grid_auto_rows": null,
            "grid_column": null,
            "grid_gap": null,
            "grid_row": null,
            "grid_template_areas": null,
            "grid_template_columns": null,
            "grid_template_rows": null,
            "height": null,
            "justify_content": null,
            "justify_items": null,
            "left": null,
            "margin": null,
            "max_height": null,
            "max_width": null,
            "min_height": null,
            "min_width": null,
            "object_fit": null,
            "object_position": null,
            "order": null,
            "overflow": null,
            "overflow_x": null,
            "overflow_y": null,
            "padding": null,
            "right": null,
            "top": null,
            "visibility": null,
            "width": null
          }
        },
        "69308fa8ad274f0b83d877631d4cf095": {
          "model_module": "@jupyter-widgets/base",
          "model_name": "LayoutModel",
          "model_module_version": "1.2.0",
          "state": {
            "_model_module": "@jupyter-widgets/base",
            "_model_module_version": "1.2.0",
            "_model_name": "LayoutModel",
            "_view_count": null,
            "_view_module": "@jupyter-widgets/base",
            "_view_module_version": "1.2.0",
            "_view_name": "LayoutView",
            "align_content": null,
            "align_items": null,
            "align_self": null,
            "border": null,
            "bottom": null,
            "display": null,
            "flex": null,
            "flex_flow": null,
            "grid_area": null,
            "grid_auto_columns": null,
            "grid_auto_flow": null,
            "grid_auto_rows": null,
            "grid_column": null,
            "grid_gap": null,
            "grid_row": null,
            "grid_template_areas": null,
            "grid_template_columns": null,
            "grid_template_rows": null,
            "height": null,
            "justify_content": null,
            "justify_items": null,
            "left": null,
            "margin": null,
            "max_height": null,
            "max_width": null,
            "min_height": null,
            "min_width": null,
            "object_fit": null,
            "object_position": null,
            "order": null,
            "overflow": null,
            "overflow_x": null,
            "overflow_y": null,
            "padding": null,
            "right": null,
            "top": null,
            "visibility": null,
            "width": null
          }
        },
        "18c70b6ac8084dacbfe69e730fe64a36": {
          "model_module": "@jupyter-widgets/controls",
          "model_name": "DescriptionStyleModel",
          "model_module_version": "1.5.0",
          "state": {
            "_model_module": "@jupyter-widgets/controls",
            "_model_module_version": "1.5.0",
            "_model_name": "DescriptionStyleModel",
            "_view_count": null,
            "_view_module": "@jupyter-widgets/base",
            "_view_module_version": "1.2.0",
            "_view_name": "StyleView",
            "description_width": ""
          }
        },
        "935c6c57649e4de7a35457fccf1f0deb": {
          "model_module": "@jupyter-widgets/base",
          "model_name": "LayoutModel",
          "model_module_version": "1.2.0",
          "state": {
            "_model_module": "@jupyter-widgets/base",
            "_model_module_version": "1.2.0",
            "_model_name": "LayoutModel",
            "_view_count": null,
            "_view_module": "@jupyter-widgets/base",
            "_view_module_version": "1.2.0",
            "_view_name": "LayoutView",
            "align_content": null,
            "align_items": null,
            "align_self": null,
            "border": null,
            "bottom": null,
            "display": null,
            "flex": null,
            "flex_flow": null,
            "grid_area": null,
            "grid_auto_columns": null,
            "grid_auto_flow": null,
            "grid_auto_rows": null,
            "grid_column": null,
            "grid_gap": null,
            "grid_row": null,
            "grid_template_areas": null,
            "grid_template_columns": null,
            "grid_template_rows": null,
            "height": null,
            "justify_content": null,
            "justify_items": null,
            "left": null,
            "margin": null,
            "max_height": null,
            "max_width": null,
            "min_height": null,
            "min_width": null,
            "object_fit": null,
            "object_position": null,
            "order": null,
            "overflow": null,
            "overflow_x": null,
            "overflow_y": null,
            "padding": null,
            "right": null,
            "top": null,
            "visibility": null,
            "width": null
          }
        },
        "68d21899da9547c6ac26f50fac26b86f": {
          "model_module": "@jupyter-widgets/controls",
          "model_name": "ProgressStyleModel",
          "model_module_version": "1.5.0",
          "state": {
            "_model_module": "@jupyter-widgets/controls",
            "_model_module_version": "1.5.0",
            "_model_name": "ProgressStyleModel",
            "_view_count": null,
            "_view_module": "@jupyter-widgets/base",
            "_view_module_version": "1.2.0",
            "_view_name": "StyleView",
            "bar_color": null,
            "description_width": ""
          }
        },
        "c6ae31852ef249fe8116530dec0c9c1e": {
          "model_module": "@jupyter-widgets/base",
          "model_name": "LayoutModel",
          "model_module_version": "1.2.0",
          "state": {
            "_model_module": "@jupyter-widgets/base",
            "_model_module_version": "1.2.0",
            "_model_name": "LayoutModel",
            "_view_count": null,
            "_view_module": "@jupyter-widgets/base",
            "_view_module_version": "1.2.0",
            "_view_name": "LayoutView",
            "align_content": null,
            "align_items": null,
            "align_self": null,
            "border": null,
            "bottom": null,
            "display": null,
            "flex": null,
            "flex_flow": null,
            "grid_area": null,
            "grid_auto_columns": null,
            "grid_auto_flow": null,
            "grid_auto_rows": null,
            "grid_column": null,
            "grid_gap": null,
            "grid_row": null,
            "grid_template_areas": null,
            "grid_template_columns": null,
            "grid_template_rows": null,
            "height": null,
            "justify_content": null,
            "justify_items": null,
            "left": null,
            "margin": null,
            "max_height": null,
            "max_width": null,
            "min_height": null,
            "min_width": null,
            "object_fit": null,
            "object_position": null,
            "order": null,
            "overflow": null,
            "overflow_x": null,
            "overflow_y": null,
            "padding": null,
            "right": null,
            "top": null,
            "visibility": null,
            "width": null
          }
        },
        "71ec3f170ab441aea75861fa797cf046": {
          "model_module": "@jupyter-widgets/controls",
          "model_name": "DescriptionStyleModel",
          "model_module_version": "1.5.0",
          "state": {
            "_model_module": "@jupyter-widgets/controls",
            "_model_module_version": "1.5.0",
            "_model_name": "DescriptionStyleModel",
            "_view_count": null,
            "_view_module": "@jupyter-widgets/base",
            "_view_module_version": "1.2.0",
            "_view_name": "StyleView",
            "description_width": ""
          }
        },
        "0a435f34db1b40c79484a457180e40a8": {
          "model_module": "@jupyter-widgets/controls",
          "model_name": "HBoxModel",
          "model_module_version": "1.5.0",
          "state": {
            "_dom_classes": [],
            "_model_module": "@jupyter-widgets/controls",
            "_model_module_version": "1.5.0",
            "_model_name": "HBoxModel",
            "_view_count": null,
            "_view_module": "@jupyter-widgets/controls",
            "_view_module_version": "1.5.0",
            "_view_name": "HBoxView",
            "box_style": "",
            "children": [
              "IPY_MODEL_6f48cec70b734c3bba5afb69e4f12266",
              "IPY_MODEL_58e2fa1f6a61431e99c275e44f53eb1e",
              "IPY_MODEL_a94daa48a9e54115b11d8d6c83a515fb"
            ],
            "layout": "IPY_MODEL_c8183d63ec2f4564b98508a0852896a4"
          }
        },
        "6f48cec70b734c3bba5afb69e4f12266": {
          "model_module": "@jupyter-widgets/controls",
          "model_name": "HTMLModel",
          "model_module_version": "1.5.0",
          "state": {
            "_dom_classes": [],
            "_model_module": "@jupyter-widgets/controls",
            "_model_module_version": "1.5.0",
            "_model_name": "HTMLModel",
            "_view_count": null,
            "_view_module": "@jupyter-widgets/controls",
            "_view_module_version": "1.5.0",
            "_view_name": "HTMLView",
            "description": "",
            "description_tooltip": null,
            "layout": "IPY_MODEL_484917d2e4db46d18a7d44685005eced",
            "placeholder": "​",
            "style": "IPY_MODEL_a64d37c8a0524061aae46429a523cd55",
            "value": "100%"
          }
        },
        "58e2fa1f6a61431e99c275e44f53eb1e": {
          "model_module": "@jupyter-widgets/controls",
          "model_name": "FloatProgressModel",
          "model_module_version": "1.5.0",
          "state": {
            "_dom_classes": [],
            "_model_module": "@jupyter-widgets/controls",
            "_model_module_version": "1.5.0",
            "_model_name": "FloatProgressModel",
            "_view_count": null,
            "_view_module": "@jupyter-widgets/controls",
            "_view_module_version": "1.5.0",
            "_view_name": "ProgressView",
            "bar_style": "success",
            "description": "",
            "description_tooltip": null,
            "layout": "IPY_MODEL_b610d7ac1d3c44a6983b892d42df5247",
            "max": 7,
            "min": 0,
            "orientation": "horizontal",
            "style": "IPY_MODEL_4ec0bce10c3e48cdbdd21eea2ee63a29",
            "value": 7
          }
        },
        "a94daa48a9e54115b11d8d6c83a515fb": {
          "model_module": "@jupyter-widgets/controls",
          "model_name": "HTMLModel",
          "model_module_version": "1.5.0",
          "state": {
            "_dom_classes": [],
            "_model_module": "@jupyter-widgets/controls",
            "_model_module_version": "1.5.0",
            "_model_name": "HTMLModel",
            "_view_count": null,
            "_view_module": "@jupyter-widgets/controls",
            "_view_module_version": "1.5.0",
            "_view_name": "HTMLView",
            "description": "",
            "description_tooltip": null,
            "layout": "IPY_MODEL_b20944980db34edc844b70581942e7d6",
            "placeholder": "​",
            "style": "IPY_MODEL_af497a4d2a8347859acc70c62e2f6025",
            "value": " 7/7 [00:06&lt;00:00,  1.07it/s]"
          }
        },
        "c8183d63ec2f4564b98508a0852896a4": {
          "model_module": "@jupyter-widgets/base",
          "model_name": "LayoutModel",
          "model_module_version": "1.2.0",
          "state": {
            "_model_module": "@jupyter-widgets/base",
            "_model_module_version": "1.2.0",
            "_model_name": "LayoutModel",
            "_view_count": null,
            "_view_module": "@jupyter-widgets/base",
            "_view_module_version": "1.2.0",
            "_view_name": "LayoutView",
            "align_content": null,
            "align_items": null,
            "align_self": null,
            "border": null,
            "bottom": null,
            "display": null,
            "flex": null,
            "flex_flow": null,
            "grid_area": null,
            "grid_auto_columns": null,
            "grid_auto_flow": null,
            "grid_auto_rows": null,
            "grid_column": null,
            "grid_gap": null,
            "grid_row": null,
            "grid_template_areas": null,
            "grid_template_columns": null,
            "grid_template_rows": null,
            "height": null,
            "justify_content": null,
            "justify_items": null,
            "left": null,
            "margin": null,
            "max_height": null,
            "max_width": null,
            "min_height": null,
            "min_width": null,
            "object_fit": null,
            "object_position": null,
            "order": null,
            "overflow": null,
            "overflow_x": null,
            "overflow_y": null,
            "padding": null,
            "right": null,
            "top": null,
            "visibility": null,
            "width": null
          }
        },
        "484917d2e4db46d18a7d44685005eced": {
          "model_module": "@jupyter-widgets/base",
          "model_name": "LayoutModel",
          "model_module_version": "1.2.0",
          "state": {
            "_model_module": "@jupyter-widgets/base",
            "_model_module_version": "1.2.0",
            "_model_name": "LayoutModel",
            "_view_count": null,
            "_view_module": "@jupyter-widgets/base",
            "_view_module_version": "1.2.0",
            "_view_name": "LayoutView",
            "align_content": null,
            "align_items": null,
            "align_self": null,
            "border": null,
            "bottom": null,
            "display": null,
            "flex": null,
            "flex_flow": null,
            "grid_area": null,
            "grid_auto_columns": null,
            "grid_auto_flow": null,
            "grid_auto_rows": null,
            "grid_column": null,
            "grid_gap": null,
            "grid_row": null,
            "grid_template_areas": null,
            "grid_template_columns": null,
            "grid_template_rows": null,
            "height": null,
            "justify_content": null,
            "justify_items": null,
            "left": null,
            "margin": null,
            "max_height": null,
            "max_width": null,
            "min_height": null,
            "min_width": null,
            "object_fit": null,
            "object_position": null,
            "order": null,
            "overflow": null,
            "overflow_x": null,
            "overflow_y": null,
            "padding": null,
            "right": null,
            "top": null,
            "visibility": null,
            "width": null
          }
        },
        "a64d37c8a0524061aae46429a523cd55": {
          "model_module": "@jupyter-widgets/controls",
          "model_name": "DescriptionStyleModel",
          "model_module_version": "1.5.0",
          "state": {
            "_model_module": "@jupyter-widgets/controls",
            "_model_module_version": "1.5.0",
            "_model_name": "DescriptionStyleModel",
            "_view_count": null,
            "_view_module": "@jupyter-widgets/base",
            "_view_module_version": "1.2.0",
            "_view_name": "StyleView",
            "description_width": ""
          }
        },
        "b610d7ac1d3c44a6983b892d42df5247": {
          "model_module": "@jupyter-widgets/base",
          "model_name": "LayoutModel",
          "model_module_version": "1.2.0",
          "state": {
            "_model_module": "@jupyter-widgets/base",
            "_model_module_version": "1.2.0",
            "_model_name": "LayoutModel",
            "_view_count": null,
            "_view_module": "@jupyter-widgets/base",
            "_view_module_version": "1.2.0",
            "_view_name": "LayoutView",
            "align_content": null,
            "align_items": null,
            "align_self": null,
            "border": null,
            "bottom": null,
            "display": null,
            "flex": null,
            "flex_flow": null,
            "grid_area": null,
            "grid_auto_columns": null,
            "grid_auto_flow": null,
            "grid_auto_rows": null,
            "grid_column": null,
            "grid_gap": null,
            "grid_row": null,
            "grid_template_areas": null,
            "grid_template_columns": null,
            "grid_template_rows": null,
            "height": null,
            "justify_content": null,
            "justify_items": null,
            "left": null,
            "margin": null,
            "max_height": null,
            "max_width": null,
            "min_height": null,
            "min_width": null,
            "object_fit": null,
            "object_position": null,
            "order": null,
            "overflow": null,
            "overflow_x": null,
            "overflow_y": null,
            "padding": null,
            "right": null,
            "top": null,
            "visibility": null,
            "width": null
          }
        },
        "4ec0bce10c3e48cdbdd21eea2ee63a29": {
          "model_module": "@jupyter-widgets/controls",
          "model_name": "ProgressStyleModel",
          "model_module_version": "1.5.0",
          "state": {
            "_model_module": "@jupyter-widgets/controls",
            "_model_module_version": "1.5.0",
            "_model_name": "ProgressStyleModel",
            "_view_count": null,
            "_view_module": "@jupyter-widgets/base",
            "_view_module_version": "1.2.0",
            "_view_name": "StyleView",
            "bar_color": null,
            "description_width": ""
          }
        },
        "b20944980db34edc844b70581942e7d6": {
          "model_module": "@jupyter-widgets/base",
          "model_name": "LayoutModel",
          "model_module_version": "1.2.0",
          "state": {
            "_model_module": "@jupyter-widgets/base",
            "_model_module_version": "1.2.0",
            "_model_name": "LayoutModel",
            "_view_count": null,
            "_view_module": "@jupyter-widgets/base",
            "_view_module_version": "1.2.0",
            "_view_name": "LayoutView",
            "align_content": null,
            "align_items": null,
            "align_self": null,
            "border": null,
            "bottom": null,
            "display": null,
            "flex": null,
            "flex_flow": null,
            "grid_area": null,
            "grid_auto_columns": null,
            "grid_auto_flow": null,
            "grid_auto_rows": null,
            "grid_column": null,
            "grid_gap": null,
            "grid_row": null,
            "grid_template_areas": null,
            "grid_template_columns": null,
            "grid_template_rows": null,
            "height": null,
            "justify_content": null,
            "justify_items": null,
            "left": null,
            "margin": null,
            "max_height": null,
            "max_width": null,
            "min_height": null,
            "min_width": null,
            "object_fit": null,
            "object_position": null,
            "order": null,
            "overflow": null,
            "overflow_x": null,
            "overflow_y": null,
            "padding": null,
            "right": null,
            "top": null,
            "visibility": null,
            "width": null
          }
        },
        "af497a4d2a8347859acc70c62e2f6025": {
          "model_module": "@jupyter-widgets/controls",
          "model_name": "DescriptionStyleModel",
          "model_module_version": "1.5.0",
          "state": {
            "_model_module": "@jupyter-widgets/controls",
            "_model_module_version": "1.5.0",
            "_model_name": "DescriptionStyleModel",
            "_view_count": null,
            "_view_module": "@jupyter-widgets/base",
            "_view_module_version": "1.2.0",
            "_view_name": "StyleView",
            "description_width": ""
          }
        },
        "fb973055dcea4597a4a1aff237aa9598": {
          "model_module": "@jupyter-widgets/controls",
          "model_name": "HBoxModel",
          "model_module_version": "1.5.0",
          "state": {
            "_dom_classes": [],
            "_model_module": "@jupyter-widgets/controls",
            "_model_module_version": "1.5.0",
            "_model_name": "HBoxModel",
            "_view_count": null,
            "_view_module": "@jupyter-widgets/controls",
            "_view_module_version": "1.5.0",
            "_view_name": "HBoxView",
            "box_style": "",
            "children": [
              "IPY_MODEL_79be6e6cb8c847cba0f6d170585b4d11",
              "IPY_MODEL_c2b2d55cde244668ad94581dc4b3f0e5",
              "IPY_MODEL_a886acfeff664ac890978898ef28fb16"
            ],
            "layout": "IPY_MODEL_e54ed0f777a449a2bbb0b6e90ef357da"
          }
        },
        "79be6e6cb8c847cba0f6d170585b4d11": {
          "model_module": "@jupyter-widgets/controls",
          "model_name": "HTMLModel",
          "model_module_version": "1.5.0",
          "state": {
            "_dom_classes": [],
            "_model_module": "@jupyter-widgets/controls",
            "_model_module_version": "1.5.0",
            "_model_name": "HTMLModel",
            "_view_count": null,
            "_view_module": "@jupyter-widgets/controls",
            "_view_module_version": "1.5.0",
            "_view_name": "HTMLView",
            "description": "",
            "description_tooltip": null,
            "layout": "IPY_MODEL_08050548e3c84834bd102ea3529e18e7",
            "placeholder": "​",
            "style": "IPY_MODEL_e09c6f9800724c2d98432ca2ede13e5e",
            "value": "100%"
          }
        },
        "c2b2d55cde244668ad94581dc4b3f0e5": {
          "model_module": "@jupyter-widgets/controls",
          "model_name": "FloatProgressModel",
          "model_module_version": "1.5.0",
          "state": {
            "_dom_classes": [],
            "_model_module": "@jupyter-widgets/controls",
            "_model_module_version": "1.5.0",
            "_model_name": "FloatProgressModel",
            "_view_count": null,
            "_view_module": "@jupyter-widgets/controls",
            "_view_module_version": "1.5.0",
            "_view_name": "ProgressView",
            "bar_style": "success",
            "description": "",
            "description_tooltip": null,
            "layout": "IPY_MODEL_b7c9216cb8704bdfac0eb4049fbfd8c6",
            "max": 7,
            "min": 0,
            "orientation": "horizontal",
            "style": "IPY_MODEL_23d3db9ff5fc4336ac288877d4b6a9df",
            "value": 7
          }
        },
        "a886acfeff664ac890978898ef28fb16": {
          "model_module": "@jupyter-widgets/controls",
          "model_name": "HTMLModel",
          "model_module_version": "1.5.0",
          "state": {
            "_dom_classes": [],
            "_model_module": "@jupyter-widgets/controls",
            "_model_module_version": "1.5.0",
            "_model_name": "HTMLModel",
            "_view_count": null,
            "_view_module": "@jupyter-widgets/controls",
            "_view_module_version": "1.5.0",
            "_view_name": "HTMLView",
            "description": "",
            "description_tooltip": null,
            "layout": "IPY_MODEL_ea33862b87a24500b5e04a1fe0f5c5a0",
            "placeholder": "​",
            "style": "IPY_MODEL_59f769c1284040f58d720505c6eba1f0",
            "value": " 7/7 [00:00&lt;00:00, 122.63it/s]"
          }
        },
        "e54ed0f777a449a2bbb0b6e90ef357da": {
          "model_module": "@jupyter-widgets/base",
          "model_name": "LayoutModel",
          "model_module_version": "1.2.0",
          "state": {
            "_model_module": "@jupyter-widgets/base",
            "_model_module_version": "1.2.0",
            "_model_name": "LayoutModel",
            "_view_count": null,
            "_view_module": "@jupyter-widgets/base",
            "_view_module_version": "1.2.0",
            "_view_name": "LayoutView",
            "align_content": null,
            "align_items": null,
            "align_self": null,
            "border": null,
            "bottom": null,
            "display": null,
            "flex": null,
            "flex_flow": null,
            "grid_area": null,
            "grid_auto_columns": null,
            "grid_auto_flow": null,
            "grid_auto_rows": null,
            "grid_column": null,
            "grid_gap": null,
            "grid_row": null,
            "grid_template_areas": null,
            "grid_template_columns": null,
            "grid_template_rows": null,
            "height": null,
            "justify_content": null,
            "justify_items": null,
            "left": null,
            "margin": null,
            "max_height": null,
            "max_width": null,
            "min_height": null,
            "min_width": null,
            "object_fit": null,
            "object_position": null,
            "order": null,
            "overflow": null,
            "overflow_x": null,
            "overflow_y": null,
            "padding": null,
            "right": null,
            "top": null,
            "visibility": null,
            "width": null
          }
        },
        "08050548e3c84834bd102ea3529e18e7": {
          "model_module": "@jupyter-widgets/base",
          "model_name": "LayoutModel",
          "model_module_version": "1.2.0",
          "state": {
            "_model_module": "@jupyter-widgets/base",
            "_model_module_version": "1.2.0",
            "_model_name": "LayoutModel",
            "_view_count": null,
            "_view_module": "@jupyter-widgets/base",
            "_view_module_version": "1.2.0",
            "_view_name": "LayoutView",
            "align_content": null,
            "align_items": null,
            "align_self": null,
            "border": null,
            "bottom": null,
            "display": null,
            "flex": null,
            "flex_flow": null,
            "grid_area": null,
            "grid_auto_columns": null,
            "grid_auto_flow": null,
            "grid_auto_rows": null,
            "grid_column": null,
            "grid_gap": null,
            "grid_row": null,
            "grid_template_areas": null,
            "grid_template_columns": null,
            "grid_template_rows": null,
            "height": null,
            "justify_content": null,
            "justify_items": null,
            "left": null,
            "margin": null,
            "max_height": null,
            "max_width": null,
            "min_height": null,
            "min_width": null,
            "object_fit": null,
            "object_position": null,
            "order": null,
            "overflow": null,
            "overflow_x": null,
            "overflow_y": null,
            "padding": null,
            "right": null,
            "top": null,
            "visibility": null,
            "width": null
          }
        },
        "e09c6f9800724c2d98432ca2ede13e5e": {
          "model_module": "@jupyter-widgets/controls",
          "model_name": "DescriptionStyleModel",
          "model_module_version": "1.5.0",
          "state": {
            "_model_module": "@jupyter-widgets/controls",
            "_model_module_version": "1.5.0",
            "_model_name": "DescriptionStyleModel",
            "_view_count": null,
            "_view_module": "@jupyter-widgets/base",
            "_view_module_version": "1.2.0",
            "_view_name": "StyleView",
            "description_width": ""
          }
        },
        "b7c9216cb8704bdfac0eb4049fbfd8c6": {
          "model_module": "@jupyter-widgets/base",
          "model_name": "LayoutModel",
          "model_module_version": "1.2.0",
          "state": {
            "_model_module": "@jupyter-widgets/base",
            "_model_module_version": "1.2.0",
            "_model_name": "LayoutModel",
            "_view_count": null,
            "_view_module": "@jupyter-widgets/base",
            "_view_module_version": "1.2.0",
            "_view_name": "LayoutView",
            "align_content": null,
            "align_items": null,
            "align_self": null,
            "border": null,
            "bottom": null,
            "display": null,
            "flex": null,
            "flex_flow": null,
            "grid_area": null,
            "grid_auto_columns": null,
            "grid_auto_flow": null,
            "grid_auto_rows": null,
            "grid_column": null,
            "grid_gap": null,
            "grid_row": null,
            "grid_template_areas": null,
            "grid_template_columns": null,
            "grid_template_rows": null,
            "height": null,
            "justify_content": null,
            "justify_items": null,
            "left": null,
            "margin": null,
            "max_height": null,
            "max_width": null,
            "min_height": null,
            "min_width": null,
            "object_fit": null,
            "object_position": null,
            "order": null,
            "overflow": null,
            "overflow_x": null,
            "overflow_y": null,
            "padding": null,
            "right": null,
            "top": null,
            "visibility": null,
            "width": null
          }
        },
        "23d3db9ff5fc4336ac288877d4b6a9df": {
          "model_module": "@jupyter-widgets/controls",
          "model_name": "ProgressStyleModel",
          "model_module_version": "1.5.0",
          "state": {
            "_model_module": "@jupyter-widgets/controls",
            "_model_module_version": "1.5.0",
            "_model_name": "ProgressStyleModel",
            "_view_count": null,
            "_view_module": "@jupyter-widgets/base",
            "_view_module_version": "1.2.0",
            "_view_name": "StyleView",
            "bar_color": null,
            "description_width": ""
          }
        },
        "ea33862b87a24500b5e04a1fe0f5c5a0": {
          "model_module": "@jupyter-widgets/base",
          "model_name": "LayoutModel",
          "model_module_version": "1.2.0",
          "state": {
            "_model_module": "@jupyter-widgets/base",
            "_model_module_version": "1.2.0",
            "_model_name": "LayoutModel",
            "_view_count": null,
            "_view_module": "@jupyter-widgets/base",
            "_view_module_version": "1.2.0",
            "_view_name": "LayoutView",
            "align_content": null,
            "align_items": null,
            "align_self": null,
            "border": null,
            "bottom": null,
            "display": null,
            "flex": null,
            "flex_flow": null,
            "grid_area": null,
            "grid_auto_columns": null,
            "grid_auto_flow": null,
            "grid_auto_rows": null,
            "grid_column": null,
            "grid_gap": null,
            "grid_row": null,
            "grid_template_areas": null,
            "grid_template_columns": null,
            "grid_template_rows": null,
            "height": null,
            "justify_content": null,
            "justify_items": null,
            "left": null,
            "margin": null,
            "max_height": null,
            "max_width": null,
            "min_height": null,
            "min_width": null,
            "object_fit": null,
            "object_position": null,
            "order": null,
            "overflow": null,
            "overflow_x": null,
            "overflow_y": null,
            "padding": null,
            "right": null,
            "top": null,
            "visibility": null,
            "width": null
          }
        },
        "59f769c1284040f58d720505c6eba1f0": {
          "model_module": "@jupyter-widgets/controls",
          "model_name": "DescriptionStyleModel",
          "model_module_version": "1.5.0",
          "state": {
            "_model_module": "@jupyter-widgets/controls",
            "_model_module_version": "1.5.0",
            "_model_name": "DescriptionStyleModel",
            "_view_count": null,
            "_view_module": "@jupyter-widgets/base",
            "_view_module_version": "1.2.0",
            "_view_name": "StyleView",
            "description_width": ""
          }
        }
      }
    }
  },
  "cells": [
    {
      "cell_type": "markdown",
      "source": [
        "# Bibliotecas\n",
        "---"
      ],
      "metadata": {
        "id": "1U_4pasFdPqY"
      }
    },
    {
      "cell_type": "code",
      "source": [
        "# Instala bibliotecas\n",
        "!pip install skforecast==0.13.0 --quiet\n",
        "!pip install pmdarima --quiet"
      ],
      "metadata": {
        "colab": {
          "base_uri": "https://localhost:8080/"
        },
        "id": "cqfhJjP_6vRR",
        "outputId": "e6445d48-f68f-40a6-c248-cad1af2e6969"
      },
      "execution_count": null,
      "outputs": [
        {
          "output_type": "stream",
          "name": "stdout",
          "text": [
            "\u001b[2K   \u001b[90m━━━━━━━━━━━━━━━━━━━━━━━━━━━━━━━━━━━━━━━━\u001b[0m \u001b[32m670.5/670.5 kB\u001b[0m \u001b[31m7.4 MB/s\u001b[0m eta \u001b[36m0:00:00\u001b[0m\n",
            "\u001b[2K   \u001b[90m━━━━━━━━━━━━━━━━━━━━━━━━━━━━━━━━━━━━━━━━\u001b[0m \u001b[32m2.1/2.1 MB\u001b[0m \u001b[31m12.6 MB/s\u001b[0m eta \u001b[36m0:00:00\u001b[0m\n",
            "\u001b[2K   \u001b[90m━━━━━━━━━━━━━━━━━━━━━━━━━━━━━━━━━━━━━━━━\u001b[0m \u001b[32m380.1/380.1 kB\u001b[0m \u001b[31m3.3 MB/s\u001b[0m eta \u001b[36m0:00:00\u001b[0m\n",
            "\u001b[2K   \u001b[90m━━━━━━━━━━━━━━━━━━━━━━━━━━━━━━━━━━━━━━━━\u001b[0m \u001b[32m233.0/233.0 kB\u001b[0m \u001b[31m5.0 MB/s\u001b[0m eta \u001b[36m0:00:00\u001b[0m\n",
            "\u001b[2K   \u001b[90m━━━━━━━━━━━━━━━━━━━━━━━━━━━━━━━━━━━━━━━━\u001b[0m \u001b[32m78.6/78.6 kB\u001b[0m \u001b[31m2.3 MB/s\u001b[0m eta \u001b[36m0:00:00\u001b[0m\n",
            "\u001b[?25h"
          ]
        }
      ]
    },
    {
      "cell_type": "code",
      "execution_count": null,
      "metadata": {
        "id": "lg8wpSLrcnbT"
      },
      "outputs": [],
      "source": [
        "# Importa bibliotecas\n",
        "\n",
        "# Processamento de dados\n",
        "import pandas as pd\n",
        "\n",
        "# Análise de dados\n",
        "import statsmodels.api as sm\n",
        "\n",
        "# Modelagem e previsão\n",
        "from skforecast.Sarimax import Sarimax\n",
        "from skforecast.ForecasterSarimax import ForecasterSarimax\n",
        "from skforecast.ForecasterBaseline import ForecasterEquivalentDate\n",
        "from skforecast.model_selection_sarimax import grid_search_sarimax\n",
        "from skforecast.model_selection_sarimax import backtesting_sarimax\n",
        "from skforecast.model_selection import backtesting_forecaster\n",
        "from skforecast.plot import plot_residuals\n",
        "from pmdarima import auto_arima"
      ]
    },
    {
      "cell_type": "markdown",
      "source": [
        "# Organização de dados\n",
        "---"
      ],
      "metadata": {
        "id": "NqTxImGgdU3O"
      }
    },
    {
      "cell_type": "code",
      "source": [
        "# Importa dados online\n",
        "dados = pd.read_parquet(\"https://drive.google.com/uc?export=download&id=1KyT5U0yXXsNF-oDjjRtefnf1aN5YfxKq\")\n",
        "\n",
        "# Separa dados de interesse\n",
        "dados_desemprego = dados.tx_desemprego.dropna().asfreq(\"MS\")\n",
        "dados_desemprego"
      ],
      "metadata": {
        "id": "GCh1udkxdWao",
        "colab": {
          "base_uri": "https://localhost:8080/"
        },
        "outputId": "e6fbca59-ebdd-4b6a-8051-4edfbfc3f374"
      },
      "execution_count": null,
      "outputs": [
        {
          "output_type": "execute_result",
          "data": {
            "text/plain": [
              "data\n",
              "2012-04-01    7.8\n",
              "2012-05-01    7.7\n",
              "2012-06-01    7.6\n",
              "2012-07-01    7.5\n",
              "2012-08-01    7.4\n",
              "             ... \n",
              "2023-12-01    7.4\n",
              "2024-01-01    7.6\n",
              "2024-02-01    7.8\n",
              "2024-03-01    7.9\n",
              "2024-04-01    7.5\n",
              "Freq: MS, Name: tx_desemprego, Length: 145, dtype: float64"
            ]
          },
          "metadata": {},
          "execution_count": 3
        }
      ]
    },
    {
      "cell_type": "markdown",
      "source": [
        "# Visualização de dados\n",
        "---"
      ],
      "metadata": {
        "id": "dQiI0a-KihYa"
      }
    },
    {
      "cell_type": "code",
      "source": [
        "# Decomposição da série\n",
        "sm.tsa.STL(dados_desemprego).fit().plot();"
      ],
      "metadata": {
        "colab": {
          "base_uri": "https://localhost:8080/",
          "height": 487
        },
        "id": "OrK6xg2Kik4O",
        "outputId": "d7f6cb4f-cfa2-4d13-f299-f1bc2dc46089"
      },
      "execution_count": null,
      "outputs": [
        {
          "output_type": "display_data",
          "data": {
            "text/plain": [
              "<Figure size 640x480 with 4 Axes>"
            ],
            "image/png": "[encoded data removed]"
          },
          "metadata": {}
        }
      ]
    },
    {
      "cell_type": "markdown",
      "source": [
        "Série claramente não estacionária, sazonal, com tendência.\n"
      ],
      "metadata": {
        "id": "p5Vk-2Nqn7mo"
      }
    },
    {
      "cell_type": "code",
      "source": [
        "# Análise de autocorrelação\n",
        "sm.graphics.tsa.plot_acf(\n",
        "    x = dados_desemprego.diff(12).dropna(),\n",
        "    title = \"1) ACF da diferença sazonal de Y\"\n",
        "    );"
      ],
      "metadata": {
        "colab": {
          "base_uri": "https://localhost:8080/",
          "height": 452
        },
        "id": "ZGg_Iy_AoCqT",
        "outputId": "5f00c53f-e221-4d28-8f12-8a2fe5b8069d"
      },
      "execution_count": null,
      "outputs": [
        {
          "output_type": "display_data",
          "data": {
            "text/plain": [
              "<Figure size 640x480 with 1 Axes>"
            ],
            "image/png": "[encoded data removed]"
          },
          "metadata": {}
        }
      ]
    },
    {
      "cell_type": "code",
      "source": [
        "sm.graphics.tsa.plot_acf(\n",
        "    x = dados_desemprego.diff(12).diff().dropna(),  lags = 48,\n",
        "    title = \"2) ACF da 1ª diferença da diferença sazonal de Y\"\n",
        "    );"
      ],
      "metadata": {
        "colab": {
          "base_uri": "https://localhost:8080/",
          "height": 452
        },
        "id": "uBXCcRPEjmvq",
        "outputId": "c13d98af-1b63-48bd-c0af-59c5b4983086"
      },
      "execution_count": null,
      "outputs": [
        {
          "output_type": "display_data",
          "data": {
            "text/plain": [
              "<Figure size 640x480 with 1 Axes>"
            ],
            "image/png": "[encoded data removed]"
          },
          "metadata": {}
        }
      ]
    },
    {
      "cell_type": "code",
      "source": [
        "sm.graphics.tsa.plot_pacf(\n",
        "    x = dados_desemprego.diff(12).dropna(),\n",
        "    title = \"3) PACF da diferença sazonal de Y\"\n",
        "    );"
      ],
      "metadata": {
        "colab": {
          "base_uri": "https://localhost:8080/",
          "height": 452
        },
        "id": "nkGJoZwrj-JO",
        "outputId": "0cec4db1-589d-4062-fb70-a48996668bfb"
      },
      "execution_count": null,
      "outputs": [
        {
          "output_type": "display_data",
          "data": {
            "text/plain": [
              "<Figure size 640x480 with 1 Axes>"
            ],
            "image/png": "[encoded data removed]"
          },
          "metadata": {}
        }
      ]
    },
    {
      "cell_type": "code",
      "source": [
        "sm.graphics.tsa.plot_pacf(\n",
        "    x = dados_desemprego.diff(12).diff().dropna(), lags = 48,\n",
        "    title = \"4) PACF da 1ª diferença da diferença sazonal de Y\"\n",
        "    );"
      ],
      "metadata": {
        "colab": {
          "base_uri": "https://localhost:8080/",
          "height": 452
        },
        "id": "u_rMkPUaoz2p",
        "outputId": "8a3c3cbb-df0c-4c91-85d5-0300ec60404f"
      },
      "execution_count": null,
      "outputs": [
        {
          "output_type": "display_data",
          "data": {
            "text/plain": [
              "<Figure size 640x480 with 1 Axes>"
            ],
            "image/png": "[encoded data removed]"
          },
          "metadata": {}
        }
      ]
    },
    {
      "cell_type": "markdown",
      "source": [
        "# Especificação do modelo\n",
        "---\n",
        "\n",
        "**Pela ACF** (gráfico 2):\n",
        "- O pico significativo no lag 1 sugere um componente MA(1)\n",
        "- O pico significativo no lag 12 sugere um componente SMA(1)\n",
        "\n",
        "**Pela PACF** (gráfico 4):\n",
        "- O pico significativo no lag 1 sugere um componente AR(1)\n",
        "- O pico significativo no lag 12 sugere um componente SAR(1)\n",
        "\n",
        "Estes padrões sugerem os seguintes **modelos candidatos**:\n",
        "\n",
        "- ARIMA(0,1,1)(0,1,1)\n",
        "- ARIMA(1,1,0)(0,1,1)\n",
        "\n"
      ],
      "metadata": {
        "id": "XjMGDt36kK6t"
      }
    },
    {
      "cell_type": "markdown",
      "source": [
        "# Estimação do modelo\n",
        "---\n",
        "\n",
        "\n",
        "\n",
        "- Objetivo: encontrar o modelo que fornece as previsões mais acuradas\n",
        "- Horizonte de previsão: 12 meses\n",
        "- Estratégia de previsão: validação cruzada com reestimação e janela de treino crescente\n",
        "- Modelos a serem testados:\n",
        "  - SARIMA encontrado nas ACF/PACF\n",
        "  - Auto SARIMA\n",
        "  - Passeio Aleatório Sazonal\n"
      ],
      "metadata": {
        "id": "peLXKHQAvxyh"
      }
    },
    {
      "cell_type": "code",
      "source": [
        "# Define parâmetros para validação cruzada\n",
        "h = 12\n",
        "janela_inicial = int(dados_desemprego.shape[0]*0.5)\n",
        "janela_inicial"
      ],
      "metadata": {
        "colab": {
          "base_uri": "https://localhost:8080/"
        },
        "id": "_de0_R_GzVHn",
        "outputId": "a4c3de53-28bb-4ced-eade-0ce938d60986"
      },
      "execution_count": null,
      "outputs": [
        {
          "output_type": "execute_result",
          "data": {
            "text/plain": [
              "72"
            ]
          },
          "metadata": {},
          "execution_count": 9
        }
      ]
    },
    {
      "cell_type": "code",
      "source": [
        "# Busca especificação ótima pelo algoritmo Auto SARIMA\n",
        "arima_aic = auto_arima(y = dados_desemprego, m = h, trace = True)\n",
        "arima_aic"
      ],
      "metadata": {
        "colab": {
          "base_uri": "https://localhost:8080/",
          "height": 994
        },
        "id": "Iz0nnHNZ9-Ft",
        "outputId": "f7ee620f-2a37-4852-c431-72a32090651c"
      },
      "execution_count": null,
      "outputs": [
        {
          "output_type": "stream",
          "name": "stdout",
          "text": [
            "Performing stepwise search to minimize aic\n",
            " ARIMA(2,1,2)(1,0,1)[12] intercept   : AIC=-113.982, Time=3.93 sec\n",
            " ARIMA(0,1,0)(0,0,0)[12] intercept   : AIC=73.794, Time=0.06 sec\n",
            " ARIMA(1,1,0)(1,0,0)[12] intercept   : AIC=-78.591, Time=0.86 sec\n",
            " ARIMA(0,1,1)(0,0,1)[12] intercept   : AIC=-12.173, Time=0.68 sec\n",
            " ARIMA(0,1,0)(0,0,0)[12]             : AIC=71.801, Time=0.05 sec\n",
            " ARIMA(2,1,2)(0,0,1)[12] intercept   : AIC=-65.223, Time=0.72 sec\n",
            " ARIMA(2,1,2)(1,0,0)[12] intercept   : AIC=-81.879, Time=7.68 sec\n",
            " ARIMA(2,1,2)(2,0,1)[12] intercept   : AIC=-114.716, Time=13.85 sec\n",
            " ARIMA(2,1,2)(2,0,0)[12] intercept   : AIC=-105.509, Time=5.02 sec\n",
            " ARIMA(2,1,2)(2,0,2)[12] intercept   : AIC=-115.249, Time=3.11 sec\n",
            " ARIMA(2,1,2)(1,0,2)[12] intercept   : AIC=-113.571, Time=2.84 sec\n",
            " ARIMA(1,1,2)(2,0,2)[12] intercept   : AIC=-115.969, Time=2.91 sec\n",
            " ARIMA(1,1,2)(1,0,2)[12] intercept   : AIC=-111.721, Time=5.69 sec\n",
            " ARIMA(1,1,2)(2,0,1)[12] intercept   : AIC=-114.584, Time=2.52 sec\n",
            " ARIMA(1,1,2)(1,0,1)[12] intercept   : AIC=-115.542, Time=1.23 sec\n",
            " ARIMA(0,1,2)(2,0,2)[12] intercept   : AIC=-101.768, Time=2.27 sec\n",
            " ARIMA(1,1,1)(2,0,2)[12] intercept   : AIC=-115.929, Time=2.77 sec\n",
            " ARIMA(1,1,3)(2,0,2)[12] intercept   : AIC=-116.016, Time=6.90 sec\n",
            " ARIMA(1,1,3)(1,0,2)[12] intercept   : AIC=-115.288, Time=3.09 sec\n",
            " ARIMA(1,1,3)(2,0,1)[12] intercept   : AIC=-112.674, Time=2.98 sec\n",
            " ARIMA(1,1,3)(1,0,1)[12] intercept   : AIC=-116.793, Time=1.50 sec\n",
            " ARIMA(1,1,3)(0,0,1)[12] intercept   : AIC=-65.243, Time=1.25 sec\n",
            " ARIMA(1,1,3)(1,0,0)[12] intercept   : AIC=-83.711, Time=3.80 sec\n",
            " ARIMA(1,1,3)(0,0,0)[12] intercept   : AIC=-45.873, Time=0.58 sec\n",
            " ARIMA(1,1,3)(0,0,2)[12] intercept   : AIC=-80.952, Time=2.27 sec\n",
            " ARIMA(1,1,3)(2,0,0)[12] intercept   : AIC=-105.906, Time=2.45 sec\n",
            " ARIMA(0,1,3)(1,0,1)[12] intercept   : AIC=-108.908, Time=1.50 sec\n",
            " ARIMA(2,1,3)(1,0,1)[12] intercept   : AIC=-114.523, Time=1.64 sec\n",
            " ARIMA(1,1,4)(1,0,1)[12] intercept   : AIC=-116.504, Time=1.94 sec\n",
            " ARIMA(0,1,2)(1,0,1)[12] intercept   : AIC=-105.342, Time=4.28 sec\n",
            " ARIMA(0,1,4)(1,0,1)[12] intercept   : AIC=-108.095, Time=2.57 sec\n",
            " ARIMA(2,1,4)(1,0,1)[12] intercept   : AIC=-111.122, Time=1.92 sec\n",
            " ARIMA(1,1,3)(1,0,1)[12]             : AIC=-120.359, Time=1.24 sec\n",
            " ARIMA(1,1,3)(0,0,1)[12]             : AIC=-67.212, Time=0.80 sec\n",
            " ARIMA(1,1,3)(1,0,0)[12]             : AIC=-85.685, Time=0.52 sec\n",
            " ARIMA(1,1,3)(2,0,1)[12]             : AIC=-118.619, Time=2.46 sec\n",
            " ARIMA(1,1,3)(1,0,2)[12]             : AIC=-118.561, Time=5.33 sec\n",
            " ARIMA(1,1,3)(0,0,0)[12]             : AIC=-47.842, Time=0.31 sec\n",
            " ARIMA(1,1,3)(0,0,2)[12]             : AIC=-82.950, Time=1.80 sec\n",
            " ARIMA(1,1,3)(2,0,0)[12]             : AIC=-107.876, Time=1.02 sec\n",
            " ARIMA(1,1,3)(2,0,2)[12]             : AIC=-118.560, Time=3.98 sec\n",
            " ARIMA(0,1,3)(1,0,1)[12]             : AIC=-110.893, Time=1.00 sec\n",
            " ARIMA(1,1,2)(1,0,1)[12]             : AIC=-117.929, Time=1.72 sec\n",
            " ARIMA(2,1,3)(1,0,1)[12]             : AIC=inf, Time=3.32 sec\n",
            " ARIMA(1,1,4)(1,0,1)[12]             : AIC=-118.684, Time=1.48 sec\n",
            " ARIMA(0,1,2)(1,0,1)[12]             : AIC=-107.325, Time=0.56 sec\n",
            " ARIMA(0,1,4)(1,0,1)[12]             : AIC=-110.104, Time=1.14 sec\n",
            " ARIMA(2,1,2)(1,0,1)[12]             : AIC=-118.202, Time=1.17 sec\n",
            " ARIMA(2,1,4)(1,0,1)[12]             : AIC=-116.285, Time=1.63 sec\n",
            "\n",
            "Best model:  ARIMA(1,1,3)(1,0,1)[12]          \n",
            "Total fit time: 124.539 seconds\n"
          ]
        },
        {
          "output_type": "execute_result",
          "data": {
            "text/plain": [
              "ARIMA(order=(1, 1, 3), scoring_args={}, seasonal_order=(1, 0, 1, 12),\n",
              "      suppress_warnings=True, with_intercept=False)"
            ],
            "text/html": [
              "<style>#sk-container-id-1 {color: black;}#sk-container-id-1 pre{padding: 0;}#sk-container-id-1 div.sk-toggleable {background-color: white;}#sk-container-id-1 label.sk-toggleable__label {cursor: pointer;display: block;width: 100%;margin-bottom: 0;padding: 0.3em;box-sizing: border-box;text-align: center;}#sk-container-id-1 label.sk-toggleable__label-arrow:before {content: \"▸\";float: left;margin-right: 0.25em;color: #696969;}#sk-container-id-1 label.sk-toggleable__label-arrow:hover:before {color: black;}#sk-container-id-1 div.sk-estimator:hover label.sk-toggleable__label-arrow:before {color: black;}#sk-container-id-1 div.sk-toggleable__content {max-height: 0;max-width: 0;overflow: hidden;text-align: left;background-color: #f0f8ff;}#sk-container-id-1 div.sk-toggleable__content pre {margin: 0.2em;color: black;border-radius: 0.25em;background-color: #f0f8ff;}#sk-container-id-1 input.sk-toggleable__control:checked~div.sk-toggleable__content {max-height: 200px;max-width: 100%;overflow: auto;}#sk-container-id-1 input.sk-toggleable__control:checked~label.sk-toggleable__label-arrow:before {content: \"▾\";}#sk-container-id-1 div.sk-estimator input.sk-toggleable__control:checked~label.sk-toggleable__label {background-color: #d4ebff;}#sk-container-id-1 div.sk-label input.sk-toggleable__control:checked~label.sk-toggleable__label {background-color: #d4ebff;}#sk-container-id-1 input.sk-hidden--visually {border: 0;clip: rect(1px 1px 1px 1px);clip: rect(1px, 1px, 1px, 1px);height: 1px;margin: -1px;overflow: hidden;padding: 0;position: absolute;width: 1px;}#sk-container-id-1 div.sk-estimator {font-family: monospace;background-color: #f0f8ff;border: 1px dotted black;border-radius: 0.25em;box-sizing: border-box;margin-bottom: 0.5em;}#sk-container-id-1 div.sk-estimator:hover {background-color: #d4ebff;}#sk-container-id-1 div.sk-parallel-item::after {content: \"\";width: 100%;border-bottom: 1px solid gray;flex-grow: 1;}#sk-container-id-1 div.sk-label:hover label.sk-toggleable__label {background-color: #d4ebff;}#sk-container-id-1 div.sk-serial::before {content: \"\";position: absolute;border-left: 1px solid gray;box-sizing: border-box;top: 0;bottom: 0;left: 50%;z-index: 0;}#sk-container-id-1 div.sk-serial {display: flex;flex-direction: column;align-items: center;background-color: white;padding-right: 0.2em;padding-left: 0.2em;position: relative;}#sk-container-id-1 div.sk-item {position: relative;z-index: 1;}#sk-container-id-1 div.sk-parallel {display: flex;align-items: stretch;justify-content: center;background-color: white;position: relative;}#sk-container-id-1 div.sk-item::before, #sk-container-id-1 div.sk-parallel-item::before {content: \"\";position: absolute;border-left: 1px solid gray;box-sizing: border-box;top: 0;bottom: 0;left: 50%;z-index: -1;}#sk-container-id-1 div.sk-parallel-item {display: flex;flex-direction: column;z-index: 1;position: relative;background-color: white;}#sk-container-id-1 div.sk-parallel-item:first-child::after {align-self: flex-end;width: 50%;}#sk-container-id-1 div.sk-parallel-item:last-child::after {align-self: flex-start;width: 50%;}#sk-container-id-1 div.sk-parallel-item:only-child::after {width: 0;}#sk-container-id-1 div.sk-dashed-wrapped {border: 1px dashed gray;margin: 0 0.4em 0.5em 0.4em;box-sizing: border-box;padding-bottom: 0.4em;background-color: white;}#sk-container-id-1 div.sk-label label {font-family: monospace;font-weight: bold;display: inline-block;line-height: 1.2em;}#sk-container-id-1 div.sk-label-container {text-align: center;}#sk-container-id-1 div.sk-container {/* jupyter's `normalize.less` sets `[hidden] { display: none; }` but bootstrap.min.css set `[hidden] { display: none !important; }` so we also need the `!important` here to be able to override the default hidden behavior on the sphinx rendered scikit-learn.org. See: https://github.com/scikit-learn/scikit-learn/issues/21755 */display: inline-block !important;position: relative;}#sk-container-id-1 div.sk-text-repr-fallback {display: none;}</style><div id=\"sk-container-id-1\" class=\"sk-top-container\"><div class=\"sk-text-repr-fallback\"><pre> ARIMA(1,1,3)(1,0,1)[12]          </pre><b>In a Jupyter environment, please rerun this cell to show the HTML representation or trust the notebook. <br />On GitHub, the HTML representation is unable to render, please try loading this page with nbviewer.org.</b></div><div class=\"sk-container\" hidden><div class=\"sk-item\"><div class=\"sk-estimator sk-toggleable\"><input class=\"sk-toggleable__control sk-hidden--visually\" id=\"sk-estimator-id-1\" type=\"checkbox\" checked><label for=\"sk-estimator-id-1\" class=\"sk-toggleable__label sk-toggleable__label-arrow\">ARIMA</label><div class=\"sk-toggleable__content\"><pre> ARIMA(1,1,3)(1,0,1)[12]          </pre></div></div></div></div></div>"
            ]
          },
          "metadata": {},
          "execution_count": 10
        }
      ]
    },
    {
      "cell_type": "code",
      "source": [
        "# Especificação ótima do Auto SARIMA\n",
        "print(arima_aic.order)\n",
        "print(arima_aic.seasonal_order)"
      ],
      "metadata": {
        "colab": {
          "base_uri": "https://localhost:8080/"
        },
        "id": "Bii8ihjGutG7",
        "outputId": "131a0827-b4d1-4019-8d9b-7d73e014f40b"
      },
      "execution_count": null,
      "outputs": [
        {
          "output_type": "stream",
          "name": "stdout",
          "text": [
            "(1, 1, 3)\n",
            "(1, 0, 1, 12)\n"
          ]
        }
      ]
    },
    {
      "cell_type": "code",
      "source": [
        "# Busca melhor especificação entre modelos candidatos SARIMA\n",
        "sarima = ForecasterSarimax(regressor = Sarimax(maxiter = 500))\n",
        "\n",
        "parametros_sarima = {\n",
        "    \"order\": [(0,1,1), (1,1,0), arima_aic.order],\n",
        "    \"seasonal_order\": [(0,1,1,12), (0,1,1,12), arima_aic.seasonal_order],\n",
        "    \"trend\": [None, \"c\", \"t\", \"ct\"]\n",
        "}\n",
        "\n",
        "busca_sarima = grid_search_sarimax(\n",
        "    forecaster         = sarima,\n",
        "    y                  = dados_desemprego,\n",
        "    param_grid         = parametros_sarima,\n",
        "    steps              = h,\n",
        "    metric             = \"mean_squared_error\",\n",
        "    initial_train_size = janela_inicial,\n",
        "    fixed_train_size   = False,\n",
        "    refit              = True,\n",
        "    verbose            = False\n",
        ")\n",
        "\n",
        "busca_sarima.head(10)"
      ],
      "metadata": {
        "colab": {
          "base_uri": "https://localhost:8080/",
          "height": 675,
          "referenced_widgets": [
            "0ad9befed7a44ee58119484129b7f47a",
            "ad2063a9c1a244d59353d0f79cd50613",
            "81c83e0cb103496582d2f682281ed8b9",
            "e6624b98848542adba8b2c6f866b2623",
            "95482fa5e3cd4aa1be4f229b9cc87df3",
            "69308fa8ad274f0b83d877631d4cf095",
            "18c70b6ac8084dacbfe69e730fe64a36",
            "935c6c57649e4de7a35457fccf1f0deb",
            "68d21899da9547c6ac26f50fac26b86f",
            "c6ae31852ef249fe8116530dec0c9c1e",
            "71ec3f170ab441aea75861fa797cf046"
          ]
        },
        "id": "lK7QH7eP6ZWd",
        "outputId": "575e1ee7-eb9b-4131-f5b9-d2e3feeb1b84"
      },
      "execution_count": null,
      "outputs": [
        {
          "output_type": "stream",
          "name": "stdout",
          "text": [
            "Number of models compared: 36.\n"
          ]
        },
        {
          "output_type": "display_data",
          "data": {
            "text/plain": [
              "params grid:   0%|          | 0/36 [00:00<?, ?it/s]"
            ],
            "application/vnd.jupyter.widget-view+json": {
              "version_major": 2,
              "version_minor": 0,
              "model_id": "0ad9befed7a44ee58119484129b7f47a"
            }
          },
          "metadata": {}
        },
        {
          "output_type": "stream",
          "name": "stderr",
          "text": [
            "/usr/local/lib/python3.10/dist-packages/statsmodels/base/model.py:607: ConvergenceWarning: Maximum Likelihood optimization failed to converge. Check mle_retvals\n",
            "  warnings.warn(\"Maximum Likelihood optimization failed to \"\n",
            "/usr/local/lib/python3.10/dist-packages/statsmodels/base/model.py:607: ConvergenceWarning: Maximum Likelihood optimization failed to converge. Check mle_retvals\n",
            "  warnings.warn(\"Maximum Likelihood optimization failed to \"\n",
            "/usr/local/lib/python3.10/dist-packages/statsmodels/base/model.py:607: ConvergenceWarning: Maximum Likelihood optimization failed to converge. Check mle_retvals\n",
            "  warnings.warn(\"Maximum Likelihood optimization failed to \"\n",
            "/usr/local/lib/python3.10/dist-packages/statsmodels/base/model.py:607: ConvergenceWarning: Maximum Likelihood optimization failed to converge. Check mle_retvals\n",
            "  warnings.warn(\"Maximum Likelihood optimization failed to \"\n",
            "/usr/local/lib/python3.10/dist-packages/statsmodels/base/model.py:607: ConvergenceWarning: Maximum Likelihood optimization failed to converge. Check mle_retvals\n",
            "  warnings.warn(\"Maximum Likelihood optimization failed to \"\n"
          ]
        },
        {
          "output_type": "stream",
          "name": "stdout",
          "text": [
            "`Forecaster` refitted using the best-found parameters, and the whole data set: \n",
            "  Parameters: {'order': (1, 1, 0), 'seasonal_order': (0, 1, 1, 12), 'trend': None}\n",
            "  Backtesting metric: 1.69071439117291\n",
            "\n"
          ]
        },
        {
          "output_type": "execute_result",
          "data": {
            "text/plain": [
              "                                               params  mean_squared_error  \\\n",
              "16  {'order': (1, 1, 0), 'seasonal_order': (0, 1, ...            1.690714   \n",
              "12  {'order': (1, 1, 0), 'seasonal_order': (0, 1, ...            1.690714   \n",
              "24  {'order': (1, 1, 3), 'seasonal_order': (0, 1, ...            1.782046   \n",
              "28  {'order': (1, 1, 3), 'seasonal_order': (0, 1, ...            1.782046   \n",
              "20  {'order': (1, 1, 0), 'seasonal_order': (1, 0, ...            1.814883   \n",
              "21  {'order': (1, 1, 0), 'seasonal_order': (1, 0, ...            1.834651   \n",
              "32  {'order': (1, 1, 3), 'seasonal_order': (1, 0, ...            1.904890   \n",
              "33  {'order': (1, 1, 3), 'seasonal_order': (1, 0, ...            1.931238   \n",
              "13  {'order': (1, 1, 0), 'seasonal_order': (0, 1, ...            1.973649   \n",
              "17  {'order': (1, 1, 0), 'seasonal_order': (0, 1, ...            1.973649   \n",
              "\n",
              "        order seasonal_order trend  \n",
              "16  (1, 1, 0)  (0, 1, 1, 12)  None  \n",
              "12  (1, 1, 0)  (0, 1, 1, 12)  None  \n",
              "24  (1, 1, 3)  (0, 1, 1, 12)  None  \n",
              "28  (1, 1, 3)  (0, 1, 1, 12)  None  \n",
              "20  (1, 1, 0)  (1, 0, 1, 12)  None  \n",
              "21  (1, 1, 0)  (1, 0, 1, 12)     c  \n",
              "32  (1, 1, 3)  (1, 0, 1, 12)  None  \n",
              "33  (1, 1, 3)  (1, 0, 1, 12)     c  \n",
              "13  (1, 1, 0)  (0, 1, 1, 12)     c  \n",
              "17  (1, 1, 0)  (0, 1, 1, 12)     c  "
            ],
            "text/html": [
              "\n",
              "  <div id=\"df-df7eade0-dc3e-4a8a-8788-ecffca5751e5\" class=\"colab-df-container\">\n",
              "    <div>\n",
              "<style scoped>\n",
              "    .dataframe tbody tr th:only-of-type {\n",
              "        vertical-align: middle;\n",
              "    }\n",
              "\n",
              "    .dataframe tbody tr th {\n",
              "        vertical-align: top;\n",
              "    }\n",
              "\n",
              "    .dataframe thead th {\n",
              "        text-align: right;\n",
              "    }\n",
              "</style>\n",
              "<table border=\"1\" class=\"dataframe\">\n",
              "  <thead>\n",
              "    <tr style=\"text-align: right;\">\n",
              "      <th></th>\n",
              "      <th>params</th>\n",
              "      <th>mean_squared_error</th>\n",
              "      <th>order</th>\n",
              "      <th>seasonal_order</th>\n",
              "      <th>trend</th>\n",
              "    </tr>\n",
              "  </thead>\n",
              "  <tbody>\n",
              "    <tr>\n",
              "      <th>16</th>\n",
              "      <td>{'order': (1, 1, 0), 'seasonal_order': (0, 1, ...</td>\n",
              "      <td>1.690714</td>\n",
              "      <td>(1, 1, 0)</td>\n",
              "      <td>(0, 1, 1, 12)</td>\n",
              "      <td>None</td>\n",
              "    </tr>\n",
              "    <tr>\n",
              "      <th>12</th>\n",
              "      <td>{'order': (1, 1, 0), 'seasonal_order': (0, 1, ...</td>\n",
              "      <td>1.690714</td>\n",
              "      <td>(1, 1, 0)</td>\n",
              "      <td>(0, 1, 1, 12)</td>\n",
              "      <td>None</td>\n",
              "    </tr>\n",
              "    <tr>\n",
              "      <th>24</th>\n",
              "      <td>{'order': (1, 1, 3), 'seasonal_order': (0, 1, ...</td>\n",
              "      <td>1.782046</td>\n",
              "      <td>(1, 1, 3)</td>\n",
              "      <td>(0, 1, 1, 12)</td>\n",
              "      <td>None</td>\n",
              "    </tr>\n",
              "    <tr>\n",
              "      <th>28</th>\n",
              "      <td>{'order': (1, 1, 3), 'seasonal_order': (0, 1, ...</td>\n",
              "      <td>1.782046</td>\n",
              "      <td>(1, 1, 3)</td>\n",
              "      <td>(0, 1, 1, 12)</td>\n",
              "      <td>None</td>\n",
              "    </tr>\n",
              "    <tr>\n",
              "      <th>20</th>\n",
              "      <td>{'order': (1, 1, 0), 'seasonal_order': (1, 0, ...</td>\n",
              "      <td>1.814883</td>\n",
              "      <td>(1, 1, 0)</td>\n",
              "      <td>(1, 0, 1, 12)</td>\n",
              "      <td>None</td>\n",
              "    </tr>\n",
              "    <tr>\n",
              "      <th>21</th>\n",
              "      <td>{'order': (1, 1, 0), 'seasonal_order': (1, 0, ...</td>\n",
              "      <td>1.834651</td>\n",
              "      <td>(1, 1, 0)</td>\n",
              "      <td>(1, 0, 1, 12)</td>\n",
              "      <td>c</td>\n",
              "    </tr>\n",
              "    <tr>\n",
              "      <th>32</th>\n",
              "      <td>{'order': (1, 1, 3), 'seasonal_order': (1, 0, ...</td>\n",
              "      <td>1.904890</td>\n",
              "      <td>(1, 1, 3)</td>\n",
              "      <td>(1, 0, 1, 12)</td>\n",
              "      <td>None</td>\n",
              "    </tr>\n",
              "    <tr>\n",
              "      <th>33</th>\n",
              "      <td>{'order': (1, 1, 3), 'seasonal_order': (1, 0, ...</td>\n",
              "      <td>1.931238</td>\n",
              "      <td>(1, 1, 3)</td>\n",
              "      <td>(1, 0, 1, 12)</td>\n",
              "      <td>c</td>\n",
              "    </tr>\n",
              "    <tr>\n",
              "      <th>13</th>\n",
              "      <td>{'order': (1, 1, 0), 'seasonal_order': (0, 1, ...</td>\n",
              "      <td>1.973649</td>\n",
              "      <td>(1, 1, 0)</td>\n",
              "      <td>(0, 1, 1, 12)</td>\n",
              "      <td>c</td>\n",
              "    </tr>\n",
              "    <tr>\n",
              "      <th>17</th>\n",
              "      <td>{'order': (1, 1, 0), 'seasonal_order': (0, 1, ...</td>\n",
              "      <td>1.973649</td>\n",
              "      <td>(1, 1, 0)</td>\n",
              "      <td>(0, 1, 1, 12)</td>\n",
              "      <td>c</td>\n",
              "    </tr>\n",
              "  </tbody>\n",
              "</table>\n",
              "</div>\n",
              "    <div class=\"colab-df-buttons\">\n",
              "\n",
              "  <div class=\"colab-df-container\">\n",
              "    <button class=\"colab-df-convert\" onclick=\"convertToInteractive('df-df7eade0-dc3e-4a8a-8788-ecffca5751e5')\"\n",
              "            title=\"Convert this dataframe to an interactive table.\"\n",
              "            style=\"display:none;\">\n",
              "\n",
              "  <svg xmlns=\"http://www.w3.org/2000/svg\" height=\"24px\" viewBox=\"0 -960 960 960\">\n",
              "    <path d=\"M120-120v-720h720v720H120Zm60-500h600v-160H180v160Zm220 220h160v-160H400v160Zm0 220h160v-160H400v160ZM180-400h160v-160H180v160Zm440 0h160v-160H620v160ZM180-180h160v-160H180v160Zm440 0h160v-160H620v160Z\"/>\n",
              "  </svg>\n",
              "    </button>\n",
              "\n",
              "  <style>\n",
              "    .colab-df-container {\n",
              "      display:flex;\n",
              "      gap: 12px;\n",
              "    }\n",
              "\n",
              "    .colab-df-convert {\n",
              "      background-color: #E8F0FE;\n",
              "      border: none;\n",
              "      border-radius: 50%;\n",
              "      cursor: pointer;\n",
              "      display: none;\n",
              "      fill: #1967D2;\n",
              "      height: 32px;\n",
              "      padding: 0 0 0 0;\n",
              "      width: 32px;\n",
              "    }\n",
              "\n",
              "    .colab-df-convert:hover {\n",
              "      background-color: #E2EBFA;\n",
              "      box-shadow: 0px 1px 2px rgba(60, 64, 67, 0.3), 0px 1px 3px 1px rgba(60, 64, 67, 0.15);\n",
              "      fill: #174EA6;\n",
              "    }\n",
              "\n",
              "    .colab-df-buttons div {\n",
              "      margin-bottom: 4px;\n",
              "    }\n",
              "\n",
              "    [theme=dark] .colab-df-convert {\n",
              "      background-color: #3B4455;\n",
              "      fill: #D2E3FC;\n",
              "    }\n",
              "\n",
              "    [theme=dark] .colab-df-convert:hover {\n",
              "      background-color: #434B5C;\n",
              "      box-shadow: 0px 1px 3px 1px rgba(0, 0, 0, 0.15);\n",
              "      filter: drop-shadow(0px 1px 2px rgba(0, 0, 0, 0.3));\n",
              "      fill: #FFFFFF;\n",
              "    }\n",
              "  </style>\n",
              "\n",
              "    <script>\n",
              "      const buttonEl =\n",
              "        document.querySelector('#df-df7eade0-dc3e-4a8a-8788-ecffca5751e5 button.colab-df-convert');\n",
              "      buttonEl.style.display =\n",
              "        google.colab.kernel.accessAllowed ? 'block' : 'none';\n",
              "\n",
              "      async function convertToInteractive(key) {\n",
              "        const element = document.querySelector('#df-df7eade0-dc3e-4a8a-8788-ecffca5751e5');\n",
              "        const dataTable =\n",
              "          await google.colab.kernel.invokeFunction('convertToInteractive',\n",
              "                                                    [key], {});\n",
              "        if (!dataTable) return;\n",
              "\n",
              "        const docLinkHtml = 'Like what you see? Visit the ' +\n",
              "          '<a target=\"_blank\" href=https://colab.research.google.com/notebooks/data_table.ipynb>data table notebook</a>'\n",
              "          + ' to learn more about interactive tables.';\n",
              "        element.innerHTML = '';\n",
              "        dataTable['output_type'] = 'display_data';\n",
              "        await google.colab.output.renderOutput(dataTable, element);\n",
              "        const docLink = document.createElement('div');\n",
              "        docLink.innerHTML = docLinkHtml;\n",
              "        element.appendChild(docLink);\n",
              "      }\n",
              "    </script>\n",
              "  </div>\n",
              "\n",
              "\n",
              "<div id=\"df-1b3d7667-ad95-478f-999f-6d8f7efcbc52\">\n",
              "  <button class=\"colab-df-quickchart\" onclick=\"quickchart('df-1b3d7667-ad95-478f-999f-6d8f7efcbc52')\"\n",
              "            title=\"Suggest charts\"\n",
              "            style=\"display:none;\">\n",
              "\n",
              "<svg xmlns=\"http://www.w3.org/2000/svg\" height=\"24px\"viewBox=\"0 0 24 24\"\n",
              "     width=\"24px\">\n",
              "    <g>\n",
              "        <path d=\"M19 3H5c-1.1 0-2 .9-2 2v14c0 1.1.9 2 2 2h14c1.1 0 2-.9 2-2V5c0-1.1-.9-2-2-2zM9 17H7v-7h2v7zm4 0h-2V7h2v10zm4 0h-2v-4h2v4z\"/>\n",
              "    </g>\n",
              "</svg>\n",
              "  </button>\n",
              "\n",
              "<style>\n",
              "  .colab-df-quickchart {\n",
              "      --bg-color: #E8F0FE;\n",
              "      --fill-color: #1967D2;\n",
              "      --hover-bg-color: #E2EBFA;\n",
              "      --hover-fill-color: #174EA6;\n",
              "      --disabled-fill-color: #AAA;\n",
              "      --disabled-bg-color: #DDD;\n",
              "  }\n",
              "\n",
              "  [theme=dark] .colab-df-quickchart {\n",
              "      --bg-color: #3B4455;\n",
              "      --fill-color: #D2E3FC;\n",
              "      --hover-bg-color: #434B5C;\n",
              "      --hover-fill-color: #FFFFFF;\n",
              "      --disabled-bg-color: #3B4455;\n",
              "      --disabled-fill-color: #666;\n",
              "  }\n",
              "\n",
              "  .colab-df-quickchart {\n",
              "    background-color: var(--bg-color);\n",
              "    border: none;\n",
              "    border-radius: 50%;\n",
              "    cursor: pointer;\n",
              "    display: none;\n",
              "    fill: var(--fill-color);\n",
              "    height: 32px;\n",
              "    padding: 0;\n",
              "    width: 32px;\n",
              "  }\n",
              "\n",
              "  .colab-df-quickchart:hover {\n",
              "    background-color: var(--hover-bg-color);\n",
              "    box-shadow: 0 1px 2px rgba(60, 64, 67, 0.3), 0 1px 3px 1px rgba(60, 64, 67, 0.15);\n",
              "    fill: var(--button-hover-fill-color);\n",
              "  }\n",
              "\n",
              "  .colab-df-quickchart-complete:disabled,\n",
              "  .colab-df-quickchart-complete:disabled:hover {\n",
              "    background-color: var(--disabled-bg-color);\n",
              "    fill: var(--disabled-fill-color);\n",
              "    box-shadow: none;\n",
              "  }\n",
              "\n",
              "  .colab-df-spinner {\n",
              "    border: 2px solid var(--fill-color);\n",
              "    border-color: transparent;\n",
              "    border-bottom-color: var(--fill-color);\n",
              "    animation:\n",
              "      spin 1s steps(1) infinite;\n",
              "  }\n",
              "\n",
              "  @keyframes spin {\n",
              "    0% {\n",
              "      border-color: transparent;\n",
              "      border-bottom-color: var(--fill-color);\n",
              "      border-left-color: var(--fill-color);\n",
              "    }\n",
              "    20% {\n",
              "      border-color: transparent;\n",
              "      border-left-color: var(--fill-color);\n",
              "      border-top-color: var(--fill-color);\n",
              "    }\n",
              "    30% {\n",
              "      border-color: transparent;\n",
              "      border-left-color: var(--fill-color);\n",
              "      border-top-color: var(--fill-color);\n",
              "      border-right-color: var(--fill-color);\n",
              "    }\n",
              "    40% {\n",
              "      border-color: transparent;\n",
              "      border-right-color: var(--fill-color);\n",
              "      border-top-color: var(--fill-color);\n",
              "    }\n",
              "    60% {\n",
              "      border-color: transparent;\n",
              "      border-right-color: var(--fill-color);\n",
              "    }\n",
              "    80% {\n",
              "      border-color: transparent;\n",
              "      border-right-color: var(--fill-color);\n",
              "      border-bottom-color: var(--fill-color);\n",
              "    }\n",
              "    90% {\n",
              "      border-color: transparent;\n",
              "      border-bottom-color: var(--fill-color);\n",
              "    }\n",
              "  }\n",
              "</style>\n",
              "\n",
              "  <script>\n",
              "    async function quickchart(key) {\n",
              "      const quickchartButtonEl =\n",
              "        document.querySelector('#' + key + ' button');\n",
              "      quickchartButtonEl.disabled = true;  // To prevent multiple clicks.\n",
              "      quickchartButtonEl.classList.add('colab-df-spinner');\n",
              "      try {\n",
              "        const charts = await google.colab.kernel.invokeFunction(\n",
              "            'suggestCharts', [key], {});\n",
              "      } catch (error) {\n",
              "        console.error('Error during call to suggestCharts:', error);\n",
              "      }\n",
              "      quickchartButtonEl.classList.remove('colab-df-spinner');\n",
              "      quickchartButtonEl.classList.add('colab-df-quickchart-complete');\n",
              "    }\n",
              "    (() => {\n",
              "      let quickchartButtonEl =\n",
              "        document.querySelector('#df-1b3d7667-ad95-478f-999f-6d8f7efcbc52 button');\n",
              "      quickchartButtonEl.style.display =\n",
              "        google.colab.kernel.accessAllowed ? 'block' : 'none';\n",
              "    })();\n",
              "  </script>\n",
              "</div>\n",
              "\n",
              "    </div>\n",
              "  </div>\n"
            ],
            "application/vnd.google.colaboratory.intrinsic+json": {
              "type": "dataframe",
              "variable_name": "busca_sarima",
              "summary": "{\n  \"name\": \"busca_sarima\",\n  \"rows\": 36,\n  \"fields\": [\n    {\n      \"column\": \"params\",\n      \"properties\": {\n        \"dtype\": \"object\",\n        \"semantic_type\": \"\",\n        \"description\": \"\"\n      }\n    },\n    {\n      \"column\": \"mean_squared_error\",\n      \"properties\": {\n        \"dtype\": \"number\",\n        \"std\": 0.861029239527984,\n        \"min\": 1.69071439117291,\n        \"max\": 4.679707042934836,\n        \"num_unique_values\": 24,\n        \"samples\": [\n          2.0645309970573344,\n          3.0493461735442557,\n          1.69071439117291\n        ],\n        \"semantic_type\": \"\",\n        \"description\": \"\"\n      }\n    },\n    {\n      \"column\": \"order\",\n      \"properties\": {\n        \"dtype\": \"category\",\n        \"num_unique_values\": 3,\n        \"samples\": [\n          [\n            1,\n            1,\n            0\n          ],\n          [\n            1,\n            1,\n            3\n          ],\n          [\n            0,\n            1,\n            1\n          ]\n        ],\n        \"semantic_type\": \"\",\n        \"description\": \"\"\n      }\n    },\n    {\n      \"column\": \"seasonal_order\",\n      \"properties\": {\n        \"dtype\": \"category\",\n        \"num_unique_values\": 2,\n        \"samples\": [\n          [\n            1,\n            0,\n            1,\n            12\n          ],\n          [\n            0,\n            1,\n            1,\n            12\n          ]\n        ],\n        \"semantic_type\": \"\",\n        \"description\": \"\"\n      }\n    },\n    {\n      \"column\": \"trend\",\n      \"properties\": {\n        \"dtype\": \"category\",\n        \"num_unique_values\": 3,\n        \"samples\": [\n          \"c\",\n          \"ct\"\n        ],\n        \"semantic_type\": \"\",\n        \"description\": \"\"\n      }\n    }\n  ]\n}"
            }
          },
          "metadata": {},
          "execution_count": 12
        }
      ]
    },
    {
      "cell_type": "code",
      "source": [
        "# Validação cruzada do melhor modelo SARIMA\n",
        "vc_sarima = backtesting_sarimax(\n",
        "    forecaster         = sarima,\n",
        "    y                  = dados_desemprego,\n",
        "    steps              = h,\n",
        "    metric             = \"mean_squared_error\",\n",
        "    initial_train_size = janela_inicial,\n",
        "    fixed_train_size   = False,\n",
        "    refit              = True,\n",
        "    verbose            = True\n",
        ")\n",
        "print(f\"Erro de validação cruzada: {vc_sarima[0]}\")"
      ],
      "metadata": {
        "colab": {
          "base_uri": "https://localhost:8080/",
          "height": 639,
          "referenced_widgets": [
            "0a435f34db1b40c79484a457180e40a8",
            "6f48cec70b734c3bba5afb69e4f12266",
            "58e2fa1f6a61431e99c275e44f53eb1e",
            "a94daa48a9e54115b11d8d6c83a515fb",
            "c8183d63ec2f4564b98508a0852896a4",
            "484917d2e4db46d18a7d44685005eced",
            "a64d37c8a0524061aae46429a523cd55",
            "b610d7ac1d3c44a6983b892d42df5247",
            "4ec0bce10c3e48cdbdd21eea2ee63a29",
            "b20944980db34edc844b70581942e7d6",
            "af497a4d2a8347859acc70c62e2f6025"
          ]
        },
        "id": "GA3cFMYWAYN-",
        "outputId": "e1a0bb6d-6cf9-4159-e7c8-417e47d266d1"
      },
      "execution_count": null,
      "outputs": [
        {
          "output_type": "stream",
          "name": "stdout",
          "text": [
            "Information of backtesting process\n",
            "----------------------------------\n",
            "Number of observations used for initial training: 72\n",
            "Number of observations used for backtesting: 73\n",
            "    Number of folds: 7\n",
            "    Number skipped folds: 0 \n",
            "    Number of steps per fold: 12\n",
            "    Number of steps to exclude from the end of each train set before test (gap): 0\n",
            "    Last fold only includes 1 observations.\n",
            "\n",
            "Fold: 0\n",
            "    Training:   2012-04-01 00:00:00 -- 2018-03-01 00:00:00  (n=72)\n",
            "    Validation: 2018-04-01 00:00:00 -- 2019-03-01 00:00:00  (n=12)\n",
            "Fold: 1\n",
            "    Training:   2012-04-01 00:00:00 -- 2019-03-01 00:00:00  (n=84)\n",
            "    Validation: 2019-04-01 00:00:00 -- 2020-03-01 00:00:00  (n=12)\n",
            "Fold: 2\n",
            "    Training:   2012-04-01 00:00:00 -- 2020-03-01 00:00:00  (n=96)\n",
            "    Validation: 2020-04-01 00:00:00 -- 2021-03-01 00:00:00  (n=12)\n",
            "Fold: 3\n",
            "    Training:   2012-04-01 00:00:00 -- 2021-03-01 00:00:00  (n=108)\n",
            "    Validation: 2021-04-01 00:00:00 -- 2022-03-01 00:00:00  (n=12)\n",
            "Fold: 4\n",
            "    Training:   2012-04-01 00:00:00 -- 2022-03-01 00:00:00  (n=120)\n",
            "    Validation: 2022-04-01 00:00:00 -- 2023-03-01 00:00:00  (n=12)\n",
            "Fold: 5\n",
            "    Training:   2012-04-01 00:00:00 -- 2023-03-01 00:00:00  (n=132)\n",
            "    Validation: 2023-04-01 00:00:00 -- 2024-03-01 00:00:00  (n=12)\n",
            "Fold: 6\n",
            "    Training:   2012-04-01 00:00:00 -- 2024-03-01 00:00:00  (n=144)\n",
            "    Validation: 2024-04-01 00:00:00 -- 2024-04-01 00:00:00  (n=1)\n",
            "\n"
          ]
        },
        {
          "output_type": "display_data",
          "data": {
            "text/plain": [
              "  0%|          | 0/7 [00:00<?, ?it/s]"
            ],
            "application/vnd.jupyter.widget-view+json": {
              "version_major": 2,
              "version_minor": 0,
              "model_id": "0a435f34db1b40c79484a457180e40a8"
            }
          },
          "metadata": {}
        },
        {
          "output_type": "stream",
          "name": "stdout",
          "text": [
            "Erro de validação cruzada:    mean_squared_error\n",
            "0            1.690714\n"
          ]
        }
      ]
    },
    {
      "cell_type": "code",
      "source": [
        "# Validação cruzada do modelo Passeio Aleatório Sazonal\n",
        "srw = ForecasterEquivalentDate(offset = h)\n",
        "\n",
        "vc_srw = backtesting_forecaster(\n",
        "    forecaster         = srw,\n",
        "    y                  = dados_desemprego,\n",
        "    steps              = h,\n",
        "    metric             = \"mean_squared_error\",\n",
        "    initial_train_size = janela_inicial,\n",
        "    fixed_train_size   = False,\n",
        "    refit              = True,\n",
        "    verbose            = True\n",
        ")\n",
        "print(f\"Erro de validação cruzada: {vc_srw[0]}\")"
      ],
      "metadata": {
        "colab": {
          "base_uri": "https://localhost:8080/",
          "height": 639,
          "referenced_widgets": [
            "fb973055dcea4597a4a1aff237aa9598",
            "79be6e6cb8c847cba0f6d170585b4d11",
            "c2b2d55cde244668ad94581dc4b3f0e5",
            "a886acfeff664ac890978898ef28fb16",
            "e54ed0f777a449a2bbb0b6e90ef357da",
            "08050548e3c84834bd102ea3529e18e7",
            "e09c6f9800724c2d98432ca2ede13e5e",
            "b7c9216cb8704bdfac0eb4049fbfd8c6",
            "23d3db9ff5fc4336ac288877d4b6a9df",
            "ea33862b87a24500b5e04a1fe0f5c5a0",
            "59f769c1284040f58d720505c6eba1f0"
          ]
        },
        "id": "Q98yqfIg7sK2",
        "outputId": "9303fe4d-80c9-43aa-9d39-d946f66202ee"
      },
      "execution_count": null,
      "outputs": [
        {
          "output_type": "stream",
          "name": "stdout",
          "text": [
            "Information of backtesting process\n",
            "----------------------------------\n",
            "Number of observations used for initial training: 72\n",
            "Number of observations used for backtesting: 73\n",
            "    Number of folds: 7\n",
            "    Number skipped folds: 0 \n",
            "    Number of steps per fold: 12\n",
            "    Number of steps to exclude from the end of each train set before test (gap): 0\n",
            "    Last fold only includes 1 observations.\n",
            "\n",
            "Fold: 0\n",
            "    Training:   2012-04-01 00:00:00 -- 2018-03-01 00:00:00  (n=72)\n",
            "    Validation: 2018-04-01 00:00:00 -- 2019-03-01 00:00:00  (n=12)\n",
            "Fold: 1\n",
            "    Training:   2012-04-01 00:00:00 -- 2019-03-01 00:00:00  (n=84)\n",
            "    Validation: 2019-04-01 00:00:00 -- 2020-03-01 00:00:00  (n=12)\n",
            "Fold: 2\n",
            "    Training:   2012-04-01 00:00:00 -- 2020-03-01 00:00:00  (n=96)\n",
            "    Validation: 2020-04-01 00:00:00 -- 2021-03-01 00:00:00  (n=12)\n",
            "Fold: 3\n",
            "    Training:   2012-04-01 00:00:00 -- 2021-03-01 00:00:00  (n=108)\n",
            "    Validation: 2021-04-01 00:00:00 -- 2022-03-01 00:00:00  (n=12)\n",
            "Fold: 4\n",
            "    Training:   2012-04-01 00:00:00 -- 2022-03-01 00:00:00  (n=120)\n",
            "    Validation: 2022-04-01 00:00:00 -- 2023-03-01 00:00:00  (n=12)\n",
            "Fold: 5\n",
            "    Training:   2012-04-01 00:00:00 -- 2023-03-01 00:00:00  (n=132)\n",
            "    Validation: 2023-04-01 00:00:00 -- 2024-03-01 00:00:00  (n=12)\n",
            "Fold: 6\n",
            "    Training:   2012-04-01 00:00:00 -- 2024-03-01 00:00:00  (n=144)\n",
            "    Validation: 2024-04-01 00:00:00 -- 2024-04-01 00:00:00  (n=1)\n",
            "\n"
          ]
        },
        {
          "output_type": "display_data",
          "data": {
            "text/plain": [
              "  0%|          | 0/7 [00:00<?, ?it/s]"
            ],
            "application/vnd.jupyter.widget-view+json": {
              "version_major": 2,
              "version_minor": 0,
              "model_id": "fb973055dcea4597a4a1aff237aa9598"
            }
          },
          "metadata": {}
        },
        {
          "output_type": "stream",
          "name": "stdout",
          "text": [
            "Erro de validação cruzada:    mean_squared_error\n",
            "0            4.792877\n"
          ]
        }
      ]
    },
    {
      "cell_type": "markdown",
      "source": [
        "# Avaliação da performance\n",
        "---"
      ],
      "metadata": {
        "id": "utIyWtih3e1O"
      }
    },
    {
      "cell_type": "code",
      "source": [
        "# Compara erros de modelos\n",
        "print(\"Erro Quadrático Médio (MSE) de validação cruzada:\")\n",
        "print(f\"  ARIMA{sarima.params['order']}{sarima.params['seasonal_order']}: {vc_sarima[0].iloc[0].round(3).values[0]}\")\n",
        "print(f\"  Passeio Aleatório Sazonal: {vc_srw[0].iloc[0].round(3).values[0]}\")"
      ],
      "metadata": {
        "colab": {
          "base_uri": "https://localhost:8080/"
        },
        "id": "2_rfzKVHxsBB",
        "outputId": "1e4e48c0-ba54-4a0c-9b73-7169b00a0b5c"
      },
      "execution_count": null,
      "outputs": [
        {
          "output_type": "stream",
          "name": "stdout",
          "text": [
            "Erro Quadrático Médio (MSE) de validação cruzada:\n",
            "  ARIMA(1, 1, 0)(0, 1, 1, 12): 1.691\n",
            "  Passeio Aleatório Sazonal: 4.793\n"
          ]
        }
      ]
    },
    {
      "cell_type": "code",
      "source": [
        "# Compara valores observados vs. previstos\n",
        "pd.concat(\n",
        "    [vc_sarima[1][\"pred\"].rename(\"Previsto\"),\n",
        "     dados_desemprego.rename(\"Observado\")],\n",
        "    axis = \"columns\"\n",
        "    ).plot()"
      ],
      "metadata": {
        "colab": {
          "base_uri": "https://localhost:8080/",
          "height": 447
        },
        "id": "Ej1iYT2fmrxs",
        "outputId": "8493a730-da75-4ca3-bfbe-9e427c2694b9"
      },
      "execution_count": null,
      "outputs": [
        {
          "output_type": "execute_result",
          "data": {
            "text/plain": [
              "<Axes: >"
            ]
          },
          "metadata": {},
          "execution_count": 38
        },
        {
          "output_type": "display_data",
          "data": {
            "text/plain": [
              "<Figure size 640x480 with 1 Axes>"
            ],
            "image/png": "[encoded data removed]"
          },
          "metadata": {}
        }
      ]
    },
    {
      "cell_type": "code",
      "source": [
        "# Diagnóstico de resíduos\n",
        "residuos = dados_desemprego.loc[vc_sarima[1][\"pred\"].index] - vc_sarima[1][\"pred\"]\n",
        "plot_residuals(residuals = residuos);\n",
        "print(f\"Média dos resíduos: {residuos.mean()}\")"
      ],
      "metadata": {
        "colab": {
          "base_uri": "https://localhost:8080/",
          "height": 525
        },
        "id": "fd8Zq_gVEWrA",
        "outputId": "c48ac68a-6243-4699-b713-aa89697a9092"
      },
      "execution_count": null,
      "outputs": [
        {
          "output_type": "stream",
          "name": "stdout",
          "text": [
            "Média dos resíduos: -0.12734627319593692\n"
          ]
        },
        {
          "output_type": "display_data",
          "data": {
            "text/plain": [
              "<Figure size 640x480 with 3 Axes>"
            ],
            "image/png": "[encoded data removed]"
          },
          "metadata": {}
        }
      ]
    },
    {
      "cell_type": "markdown",
      "source": [
        "# Produção de previsões\n",
        "---"
      ],
      "metadata": {
        "id": "UAX4P8To3HAK"
      }
    },
    {
      "cell_type": "code",
      "source": [
        "# Reestima melhor modelo com amostra completa\n",
        "sarima.fit(y = dados_desemprego)\n",
        "\n",
        "# Produz previsões\n",
        "previsoes = sarima.predict_interval(steps = 12, alpha = 0.2)\n",
        "previsoes"
      ],
      "metadata": {
        "colab": {
          "base_uri": "https://localhost:8080/",
          "height": 425
        },
        "id": "dckmntC1mfId",
        "outputId": "60ee1ee2-2ebe-4e26-9952-13fb2df55ad5"
      },
      "execution_count": null,
      "outputs": [
        {
          "output_type": "execute_result",
          "data": {
            "text/plain": [
              "                pred  lower_bound  upper_bound\n",
              "2024-05-01  7.140424     6.956714     7.324134\n",
              "2024-06-01  6.783581     6.404180     7.162983\n",
              "2024-07-01  6.596878     6.007048     7.186708\n",
              "2024-08-01  6.428821     5.623562     7.234081\n",
              "2024-09-01  6.191979     5.171886     7.212073\n",
              "2024-10-01  5.920533     4.689449     7.151618\n",
              "2024-11-01  5.655721     4.219340     7.092102\n",
              "2024-12-01  5.466700     3.831710     7.101691\n",
              "2025-01-01  5.766116     3.939657     7.592574\n",
              "2025-02-01  6.052877     4.042208     8.063546\n",
              "2025-03-01  6.343889     4.156176     8.531602\n",
              "2025-04-01  6.146196     3.788393     8.503999"
            ],
            "text/html": [
              "\n",
              "  <div id=\"df-53e527e5-093b-4ad2-9e79-56dbb2d9e510\" class=\"colab-df-container\">\n",
              "    <div>\n",
              "<style scoped>\n",
              "    .dataframe tbody tr th:only-of-type {\n",
              "        vertical-align: middle;\n",
              "    }\n",
              "\n",
              "    .dataframe tbody tr th {\n",
              "        vertical-align: top;\n",
              "    }\n",
              "\n",
              "    .dataframe thead th {\n",
              "        text-align: right;\n",
              "    }\n",
              "</style>\n",
              "<table border=\"1\" class=\"dataframe\">\n",
              "  <thead>\n",
              "    <tr style=\"text-align: right;\">\n",
              "      <th></th>\n",
              "      <th>pred</th>\n",
              "      <th>lower_bound</th>\n",
              "      <th>upper_bound</th>\n",
              "    </tr>\n",
              "  </thead>\n",
              "  <tbody>\n",
              "    <tr>\n",
              "      <th>2024-05-01</th>\n",
              "      <td>7.140424</td>\n",
              "      <td>6.956714</td>\n",
              "      <td>7.324134</td>\n",
              "    </tr>\n",
              "    <tr>\n",
              "      <th>2024-06-01</th>\n",
              "      <td>6.783581</td>\n",
              "      <td>6.404180</td>\n",
              "      <td>7.162983</td>\n",
              "    </tr>\n",
              "    <tr>\n",
              "      <th>2024-07-01</th>\n",
              "      <td>6.596878</td>\n",
              "      <td>6.007048</td>\n",
              "      <td>7.186708</td>\n",
              "    </tr>\n",
              "    <tr>\n",
              "      <th>2024-08-01</th>\n",
              "      <td>6.428821</td>\n",
              "      <td>5.623562</td>\n",
              "      <td>7.234081</td>\n",
              "    </tr>\n",
              "    <tr>\n",
              "      <th>2024-09-01</th>\n",
              "      <td>6.191979</td>\n",
              "      <td>5.171886</td>\n",
              "      <td>7.212073</td>\n",
              "    </tr>\n",
              "    <tr>\n",
              "      <th>2024-10-01</th>\n",
              "      <td>5.920533</td>\n",
              "      <td>4.689449</td>\n",
              "      <td>7.151618</td>\n",
              "    </tr>\n",
              "    <tr>\n",
              "      <th>2024-11-01</th>\n",
              "      <td>5.655721</td>\n",
              "      <td>4.219340</td>\n",
              "      <td>7.092102</td>\n",
              "    </tr>\n",
              "    <tr>\n",
              "      <th>2024-12-01</th>\n",
              "      <td>5.466700</td>\n",
              "      <td>3.831710</td>\n",
              "      <td>7.101691</td>\n",
              "    </tr>\n",
              "    <tr>\n",
              "      <th>2025-01-01</th>\n",
              "      <td>5.766116</td>\n",
              "      <td>3.939657</td>\n",
              "      <td>7.592574</td>\n",
              "    </tr>\n",
              "    <tr>\n",
              "      <th>2025-02-01</th>\n",
              "      <td>6.052877</td>\n",
              "      <td>4.042208</td>\n",
              "      <td>8.063546</td>\n",
              "    </tr>\n",
              "    <tr>\n",
              "      <th>2025-03-01</th>\n",
              "      <td>6.343889</td>\n",
              "      <td>4.156176</td>\n",
              "      <td>8.531602</td>\n",
              "    </tr>\n",
              "    <tr>\n",
              "      <th>2025-04-01</th>\n",
              "      <td>6.146196</td>\n",
              "      <td>3.788393</td>\n",
              "      <td>8.503999</td>\n",
              "    </tr>\n",
              "  </tbody>\n",
              "</table>\n",
              "</div>\n",
              "    <div class=\"colab-df-buttons\">\n",
              "\n",
              "  <div class=\"colab-df-container\">\n",
              "    <button class=\"colab-df-convert\" onclick=\"convertToInteractive('df-53e527e5-093b-4ad2-9e79-56dbb2d9e510')\"\n",
              "            title=\"Convert this dataframe to an interactive table.\"\n",
              "            style=\"display:none;\">\n",
              "\n",
              "  <svg xmlns=\"http://www.w3.org/2000/svg\" height=\"24px\" viewBox=\"0 -960 960 960\">\n",
              "    <path d=\"M120-120v-720h720v720H120Zm60-500h600v-160H180v160Zm220 220h160v-160H400v160Zm0 220h160v-160H400v160ZM180-400h160v-160H180v160Zm440 0h160v-160H620v160ZM180-180h160v-160H180v160Zm440 0h160v-160H620v160Z\"/>\n",
              "  </svg>\n",
              "    </button>\n",
              "\n",
              "  <style>\n",
              "    .colab-df-container {\n",
              "      display:flex;\n",
              "      gap: 12px;\n",
              "    }\n",
              "\n",
              "    .colab-df-convert {\n",
              "      background-color: #E8F0FE;\n",
              "      border: none;\n",
              "      border-radius: 50%;\n",
              "      cursor: pointer;\n",
              "      display: none;\n",
              "      fill: #1967D2;\n",
              "      height: 32px;\n",
              "      padding: 0 0 0 0;\n",
              "      width: 32px;\n",
              "    }\n",
              "\n",
              "    .colab-df-convert:hover {\n",
              "      background-color: #E2EBFA;\n",
              "      box-shadow: 0px 1px 2px rgba(60, 64, 67, 0.3), 0px 1px 3px 1px rgba(60, 64, 67, 0.15);\n",
              "      fill: #174EA6;\n",
              "    }\n",
              "\n",
              "    .colab-df-buttons div {\n",
              "      margin-bottom: 4px;\n",
              "    }\n",
              "\n",
              "    [theme=dark] .colab-df-convert {\n",
              "      background-color: #3B4455;\n",
              "      fill: #D2E3FC;\n",
              "    }\n",
              "\n",
              "    [theme=dark] .colab-df-convert:hover {\n",
              "      background-color: #434B5C;\n",
              "      box-shadow: 0px 1px 3px 1px rgba(0, 0, 0, 0.15);\n",
              "      filter: drop-shadow(0px 1px 2px rgba(0, 0, 0, 0.3));\n",
              "      fill: #FFFFFF;\n",
              "    }\n",
              "  </style>\n",
              "\n",
              "    <script>\n",
              "      const buttonEl =\n",
              "        document.querySelector('#df-53e527e5-093b-4ad2-9e79-56dbb2d9e510 button.colab-df-convert');\n",
              "      buttonEl.style.display =\n",
              "        google.colab.kernel.accessAllowed ? 'block' : 'none';\n",
              "\n",
              "      async function convertToInteractive(key) {\n",
              "        const element = document.querySelector('#df-53e527e5-093b-4ad2-9e79-56dbb2d9e510');\n",
              "        const dataTable =\n",
              "          await google.colab.kernel.invokeFunction('convertToInteractive',\n",
              "                                                    [key], {});\n",
              "        if (!dataTable) return;\n",
              "\n",
              "        const docLinkHtml = 'Like what you see? Visit the ' +\n",
              "          '<a target=\"_blank\" href=https://colab.research.google.com/notebooks/data_table.ipynb>data table notebook</a>'\n",
              "          + ' to learn more about interactive tables.';\n",
              "        element.innerHTML = '';\n",
              "        dataTable['output_type'] = 'display_data';\n",
              "        await google.colab.output.renderOutput(dataTable, element);\n",
              "        const docLink = document.createElement('div');\n",
              "        docLink.innerHTML = docLinkHtml;\n",
              "        element.appendChild(docLink);\n",
              "      }\n",
              "    </script>\n",
              "  </div>\n",
              "\n",
              "\n",
              "<div id=\"df-57c3e452-7d5b-4240-b943-71497de30eb2\">\n",
              "  <button class=\"colab-df-quickchart\" onclick=\"quickchart('df-57c3e452-7d5b-4240-b943-71497de30eb2')\"\n",
              "            title=\"Suggest charts\"\n",
              "            style=\"display:none;\">\n",
              "\n",
              "<svg xmlns=\"http://www.w3.org/2000/svg\" height=\"24px\"viewBox=\"0 0 24 24\"\n",
              "     width=\"24px\">\n",
              "    <g>\n",
              "        <path d=\"M19 3H5c-1.1 0-2 .9-2 2v14c0 1.1.9 2 2 2h14c1.1 0 2-.9 2-2V5c0-1.1-.9-2-2-2zM9 17H7v-7h2v7zm4 0h-2V7h2v10zm4 0h-2v-4h2v4z\"/>\n",
              "    </g>\n",
              "</svg>\n",
              "  </button>\n",
              "\n",
              "<style>\n",
              "  .colab-df-quickchart {\n",
              "      --bg-color: #E8F0FE;\n",
              "      --fill-color: #1967D2;\n",
              "      --hover-bg-color: #E2EBFA;\n",
              "      --hover-fill-color: #174EA6;\n",
              "      --disabled-fill-color: #AAA;\n",
              "      --disabled-bg-color: #DDD;\n",
              "  }\n",
              "\n",
              "  [theme=dark] .colab-df-quickchart {\n",
              "      --bg-color: #3B4455;\n",
              "      --fill-color: #D2E3FC;\n",
              "      --hover-bg-color: #434B5C;\n",
              "      --hover-fill-color: #FFFFFF;\n",
              "      --disabled-bg-color: #3B4455;\n",
              "      --disabled-fill-color: #666;\n",
              "  }\n",
              "\n",
              "  .colab-df-quickchart {\n",
              "    background-color: var(--bg-color);\n",
              "    border: none;\n",
              "    border-radius: 50%;\n",
              "    cursor: pointer;\n",
              "    display: none;\n",
              "    fill: var(--fill-color);\n",
              "    height: 32px;\n",
              "    padding: 0;\n",
              "    width: 32px;\n",
              "  }\n",
              "\n",
              "  .colab-df-quickchart:hover {\n",
              "    background-color: var(--hover-bg-color);\n",
              "    box-shadow: 0 1px 2px rgba(60, 64, 67, 0.3), 0 1px 3px 1px rgba(60, 64, 67, 0.15);\n",
              "    fill: var(--button-hover-fill-color);\n",
              "  }\n",
              "\n",
              "  .colab-df-quickchart-complete:disabled,\n",
              "  .colab-df-quickchart-complete:disabled:hover {\n",
              "    background-color: var(--disabled-bg-color);\n",
              "    fill: var(--disabled-fill-color);\n",
              "    box-shadow: none;\n",
              "  }\n",
              "\n",
              "  .colab-df-spinner {\n",
              "    border: 2px solid var(--fill-color);\n",
              "    border-color: transparent;\n",
              "    border-bottom-color: var(--fill-color);\n",
              "    animation:\n",
              "      spin 1s steps(1) infinite;\n",
              "  }\n",
              "\n",
              "  @keyframes spin {\n",
              "    0% {\n",
              "      border-color: transparent;\n",
              "      border-bottom-color: var(--fill-color);\n",
              "      border-left-color: var(--fill-color);\n",
              "    }\n",
              "    20% {\n",
              "      border-color: transparent;\n",
              "      border-left-color: var(--fill-color);\n",
              "      border-top-color: var(--fill-color);\n",
              "    }\n",
              "    30% {\n",
              "      border-color: transparent;\n",
              "      border-left-color: var(--fill-color);\n",
              "      border-top-color: var(--fill-color);\n",
              "      border-right-color: var(--fill-color);\n",
              "    }\n",
              "    40% {\n",
              "      border-color: transparent;\n",
              "      border-right-color: var(--fill-color);\n",
              "      border-top-color: var(--fill-color);\n",
              "    }\n",
              "    60% {\n",
              "      border-color: transparent;\n",
              "      border-right-color: var(--fill-color);\n",
              "    }\n",
              "    80% {\n",
              "      border-color: transparent;\n",
              "      border-right-color: var(--fill-color);\n",
              "      border-bottom-color: var(--fill-color);\n",
              "    }\n",
              "    90% {\n",
              "      border-color: transparent;\n",
              "      border-bottom-color: var(--fill-color);\n",
              "    }\n",
              "  }\n",
              "</style>\n",
              "\n",
              "  <script>\n",
              "    async function quickchart(key) {\n",
              "      const quickchartButtonEl =\n",
              "        document.querySelector('#' + key + ' button');\n",
              "      quickchartButtonEl.disabled = true;  // To prevent multiple clicks.\n",
              "      quickchartButtonEl.classList.add('colab-df-spinner');\n",
              "      try {\n",
              "        const charts = await google.colab.kernel.invokeFunction(\n",
              "            'suggestCharts', [key], {});\n",
              "      } catch (error) {\n",
              "        console.error('Error during call to suggestCharts:', error);\n",
              "      }\n",
              "      quickchartButtonEl.classList.remove('colab-df-spinner');\n",
              "      quickchartButtonEl.classList.add('colab-df-quickchart-complete');\n",
              "    }\n",
              "    (() => {\n",
              "      let quickchartButtonEl =\n",
              "        document.querySelector('#df-57c3e452-7d5b-4240-b943-71497de30eb2 button');\n",
              "      quickchartButtonEl.style.display =\n",
              "        google.colab.kernel.accessAllowed ? 'block' : 'none';\n",
              "    })();\n",
              "  </script>\n",
              "</div>\n",
              "\n",
              "  <div id=\"id_6194cc4a-2ba0-494d-9897-e1a5a1cb74a3\">\n",
              "    <style>\n",
              "      .colab-df-generate {\n",
              "        background-color: #E8F0FE;\n",
              "        border: none;\n",
              "        border-radius: 50%;\n",
              "        cursor: pointer;\n",
              "        display: none;\n",
              "        fill: #1967D2;\n",
              "        height: 32px;\n",
              "        padding: 0 0 0 0;\n",
              "        width: 32px;\n",
              "      }\n",
              "\n",
              "      .colab-df-generate:hover {\n",
              "        background-color: #E2EBFA;\n",
              "        box-shadow: 0px 1px 2px rgba(60, 64, 67, 0.3), 0px 1px 3px 1px rgba(60, 64, 67, 0.15);\n",
              "        fill: #174EA6;\n",
              "      }\n",
              "\n",
              "      [theme=dark] .colab-df-generate {\n",
              "        background-color: #3B4455;\n",
              "        fill: #D2E3FC;\n",
              "      }\n",
              "\n",
              "      [theme=dark] .colab-df-generate:hover {\n",
              "        background-color: #434B5C;\n",
              "        box-shadow: 0px 1px 3px 1px rgba(0, 0, 0, 0.15);\n",
              "        filter: drop-shadow(0px 1px 2px rgba(0, 0, 0, 0.3));\n",
              "        fill: #FFFFFF;\n",
              "      }\n",
              "    </style>\n",
              "    <button class=\"colab-df-generate\" onclick=\"generateWithVariable('previsoes')\"\n",
              "            title=\"Generate code using this dataframe.\"\n",
              "            style=\"display:none;\">\n",
              "\n",
              "  <svg xmlns=\"http://www.w3.org/2000/svg\" height=\"24px\"viewBox=\"0 0 24 24\"\n",
              "       width=\"24px\">\n",
              "    <path d=\"M7,19H8.4L18.45,9,17,7.55,7,17.6ZM5,21V16.75L18.45,3.32a2,2,0,0,1,2.83,0l1.4,1.43a1.91,1.91,0,0,1,.58,1.4,1.91,1.91,0,0,1-.58,1.4L9.25,21ZM18.45,9,17,7.55Zm-12,3A5.31,5.31,0,0,0,4.9,8.1,5.31,5.31,0,0,0,1,6.5,5.31,5.31,0,0,0,4.9,4.9,5.31,5.31,0,0,0,6.5,1,5.31,5.31,0,0,0,8.1,4.9,5.31,5.31,0,0,0,12,6.5,5.46,5.46,0,0,0,6.5,12Z\"/>\n",
              "  </svg>\n",
              "    </button>\n",
              "    <script>\n",
              "      (() => {\n",
              "      const buttonEl =\n",
              "        document.querySelector('#id_6194cc4a-2ba0-494d-9897-e1a5a1cb74a3 button.colab-df-generate');\n",
              "      buttonEl.style.display =\n",
              "        google.colab.kernel.accessAllowed ? 'block' : 'none';\n",
              "\n",
              "      buttonEl.onclick = () => {\n",
              "        google.colab.notebook.generateWithVariable('previsoes');\n",
              "      }\n",
              "      })();\n",
              "    </script>\n",
              "  </div>\n",
              "\n",
              "    </div>\n",
              "  </div>\n"
            ],
            "application/vnd.google.colaboratory.intrinsic+json": {
              "type": "dataframe",
              "variable_name": "previsoes",
              "summary": "{\n  \"name\": \"previsoes\",\n  \"rows\": 12,\n  \"fields\": [\n    {\n      \"column\": \"pred\",\n      \"properties\": {\n        \"dtype\": \"number\",\n        \"std\": 0.4842743585366888,\n        \"min\": 5.466700412976409,\n        \"max\": 7.140424245988772,\n        \"num_unique_values\": 12,\n        \"samples\": [\n          6.343888772054359,\n          6.052876965435486,\n          7.140424245988772\n        ],\n        \"semantic_type\": \"\",\n        \"description\": \"\"\n      }\n    },\n    {\n      \"column\": \"lower_bound\",\n      \"properties\": {\n        \"dtype\": \"number\",\n        \"std\": 1.1041844656395652,\n        \"min\": 3.7883932491977386,\n        \"max\": 6.956714138222436,\n        \"num_unique_values\": 12,\n        \"samples\": [\n          4.156175542267052,\n          4.0422077744171485,\n          6.956714138222436\n        ],\n        \"semantic_type\": \"\",\n        \"description\": \"\"\n      }\n    },\n    {\n      \"column\": \"upper_bound\",\n      \"properties\": {\n        \"dtype\": \"number\",\n        \"std\": 0.5426359471598907,\n        \"min\": 7.092102039019675,\n        \"max\": 8.531602001841666,\n        \"num_unique_values\": 12,\n        \"samples\": [\n          8.531602001841666,\n          8.063546156453823,\n          7.324134353755108\n        ],\n        \"semantic_type\": \"\",\n        \"description\": \"\"\n      }\n    }\n  ]\n}"
            }
          },
          "metadata": {},
          "execution_count": 40
        }
      ]
    },
    {
      "cell_type": "code",
      "source": [
        "# Visualização de dados\n",
        "pd.concat(\n",
        "    [dados_desemprego.rename(\"Taxa de Desemprego\"),\n",
        "     previsoes.pred.rename(\"Previsão\"),\n",
        "     previsoes.lower_bound.rename(\"Intervalo Inferior\"),\n",
        "     previsoes.upper_bound.rename(\"Intervalo Superior\"),\n",
        "    ],\n",
        "    axis = \"columns\"\n",
        "    ).plot(title = \"Taxa de desemprego no Brasil\", ylabel = \"%\")"
      ],
      "metadata": {
        "colab": {
          "base_uri": "https://localhost:8080/",
          "height": 469
        },
        "id": "NRs-TJlfqmOS",
        "outputId": "d7de2302-a9d9-4b25-d114-23b1a469fbea"
      },
      "execution_count": null,
      "outputs": [
        {
          "output_type": "execute_result",
          "data": {
            "text/plain": [
              "<Axes: title={'center': 'Taxa de desemprego no Brasil'}, ylabel='%'>"
            ]
          },
          "metadata": {},
          "execution_count": 41
        },
        {
          "output_type": "display_data",
          "data": {
            "text/plain": [
              "<Figure size 640x480 with 1 Axes>"
            ],
            "image/png": "[encoded data removed]"
          },
          "metadata": {}
        }
      ]
    }
  ]
}